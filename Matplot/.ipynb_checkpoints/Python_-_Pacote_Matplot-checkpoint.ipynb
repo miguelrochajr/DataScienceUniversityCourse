{
 "cells": [
  {
   "cell_type": "markdown",
   "metadata": {},
   "source": [
    "# Tópicos Especiais em Processamento da Informação: Ciência de Dados\n",
    "\n",
    "Prof. Luiz Affonso Guedes Engenharia de Computação - UFRN 2017-2\n"
   ]
  },
  {
   "cell_type": "markdown",
   "metadata": {},
   "source": [
    "## Pacote Matplot"
   ]
  },
  {
   "cell_type": "markdown",
   "metadata": {},
   "source": [
    "Há diversos pacotes gráficos em Python. Matplot é um dos mais populares.\n",
    "\n",
    "Matplotlib é uma biblioteca de visualização de dados multiplataforma construída sobre o pacote numPy, e projetada também para trabalhar com o SciPy.\n",
    "\n",
    "- Para importar o pacote matplot\n",
    "    - import matplotlib as mpl\n",
    "    - import matplotlib.pyplot as plt    --> É a interface de traçado de gráficos\n",
    "    \n",
    "    \n",
    "- Com Matplot é possível traçar diversas formas de gráficos. Sendo que o gráfico mais básico é o gráfico de linha. Sua forma geral é a seguinte:\n",
    "    - import matplotlib.pyplot as plt\n",
    "    - plt.plot(x,y)\n",
    "    - plt.show()\n"
   ]
  },
  {
   "cell_type": "code",
   "execution_count": 2,
   "metadata": {
    "collapsed": false
   },
   "outputs": [],
   "source": [
    "# Exemplo: Estimativa da população mundial até o ano de 2100, em bilhões de pessoas\n",
    " \n",
    "ano = range(1950, 2101,1)\n",
    "populacao = [2.53, 2.57, 2.62, 2.67, 2.71,2.76,2.81, 2.86, 2.92,2.97,\n",
    " 3.03, 3.08, 3.14, 3.2, 3.26, 3.33, 3.4, 3.47,\n",
    " 3.54, 3.62, 3.69, 3.77, 3.84, 3.92, 4.0, 4.07,\n",
    " 4.15, 4.22, 4.3, 4.37, 4.45, 4.53, 4.61, 4.69,\n",
    " 4.78, 4.86, 4.95, 5.05, 5.14, 5.23, 5.32, 5.41,\n",
    " 5.49, 5.58, 5.66, 5.74, 5.82, 5.9, 5.98, 6.05,\n",
    " 6.13, 6.2, 6.28, 6.36, 6.44, 6.51, 6.59, 6.67,\n",
    " 6.75, 6.83, 6.92, 7.0, 7.08, 7.16, 7.24, 7.32,\n",
    " 7.4, 7.48, 7.56, 7.64, 7.72, 7.79, 7.87, 7.94,\n",
    " 8.01, 8.08, 8.15, 8.22, 8.29, 8.36, 8.42, 8.49,\n",
    " 8.56, 8.62, 8.68, 8.74, 8.8, 8.86, 8.92, 8.98,\n",
    " 9.04, 9.09, 9.15, 9.2, 9.26, 9.31, 9.36, 9.41,\n",
    " 9.46, 9.5, 9.55, 9.6, 9.64, 9.68, 9.73, 9.77,\n",
    " 9.81, 9.85, 9.88, 9.92, 9.96, 9.99, 10.03, 10.06,\n",
    " 10.09, 10.13, 10.16, 10.19, 10.22, 10.25, 10.28, 10.31,\n",
    " 10.33, 10.36, 10.38, 10.41, 10.43, 10.46, 10.48, 10.5,\n",
    " 10.52, 10.55, 10.57, 10.59, 10.61, 10.63, 10.65, 10.66,\n",
    " 10.68, 10.7, 10.72, 10.73, 10.75, 10.77, 10.78, 10.79,\n",
    " 10.81, 10.82, 10.83, 10.84, 10.85]"
   ]
  },
  {
   "cell_type": "code",
   "execution_count": 3,
   "metadata": {
    "collapsed": false
   },
   "outputs": [
    {
     "name": "stdout",
     "output_type": "stream",
     "text": [
      "2100\n",
      "10.85\n"
     ]
    },
    {
     "data": {
      "image/png": "[encoded data removed]",
      "text/plain": [
       "<matplotlib.figure.Figure at 0x1064dbc18>"
      ]
     },
     "metadata": {},
     "output_type": "display_data"
    }
   ],
   "source": [
    "# Exemplo de gráfico de linha\n",
    "# Carregar o sub-pacote matplot.pyplot\n",
    "\n",
    "import matplotlib.pyplot as plt\n",
    "\n",
    "\n",
    "# print dos últimos elementos das listas ano e populacao\n",
    "print(ano[-1])\n",
    "print(populacao[-1])\n",
    "\n",
    "\n",
    "# Plot de linha: ano no eixo x e populacao no eixo y\n",
    "plt.plot(ano, populacao)\n",
    "\n",
    "# Mostrar o gráfico\n",
    "plt.show()"
   ]
  },
  {
   "cell_type": "code",
   "execution_count": 4,
   "metadata": {
    "collapsed": false
   },
   "outputs": [],
   "source": [
    "# Exercício: Escreva um programa que retorne o primeiro ano \n",
    "#em que se estima que a população será superior a 10 bilhoes de pessoas"
   ]
  },
  {
   "cell_type": "code",
   "execution_count": 5,
   "metadata": {
    "collapsed": false
   },
   "outputs": [
    {
     "data": {
      "text/plain": [
       "2062"
      ]
     },
     "execution_count": 5,
     "metadata": {},
     "output_type": "execute_result"
    }
   ],
   "source": [
    "ano[112]"
   ]
  },
  {
   "cell_type": "code",
   "execution_count": 6,
   "metadata": {
    "collapsed": false
   },
   "outputs": [
    {
     "data": {
      "text/plain": [
       "2062"
      ]
     },
     "execution_count": 6,
     "metadata": {},
     "output_type": "execute_result"
    }
   ],
   "source": [
    "# Resposta do exercício\n",
    "i = 0\n",
    "pop1 = populacao[i]\n",
    "\n",
    "while (pop1 < 10):\n",
    "    i += 1\n",
    "    pop1 = populacao[i]\n",
    "    \n",
    "ano[i]\n",
    "\n"
   ]
  },
  {
   "cell_type": "markdown",
   "metadata": {},
   "source": [
    "Não podemos esquecer que um pacote orientado a objetos. \n",
    "\n",
    "No caso, Pylab é uma interface para o mesmo conjunto de funções, que imita a interface de traçado de gráficos do Matlab.\n",
    "\n",
    "Pylab é um pouco mais conveniente de usar para programa de porte pequeno, enquanto que o Matplotlib dá controle mais detalhado sobre como os plots são criados."
   ]
  },
  {
   "cell_type": "code",
   "execution_count": 7,
   "metadata": {
    "collapsed": false
   },
   "outputs": [
    {
     "name": "stdout",
     "output_type": "stream",
     "text": [
      "[ 0.  0.  0.  0.  0.  0.  0.  0.  0.  0.  0.  0.  0.  0.  0.  0.  0.  0.\n",
      "  0.  0.  0.  0.  0.  0.  0.  0.  0.  0.  0.  0.  0.]\n"
     ]
    },
    {
     "data": {
      "image/png": "[encoded data removed]",
      "text/plain": [
       "<matplotlib.figure.Figure at 0x10df498d0>"
      ]
     },
     "metadata": {},
     "output_type": "display_data"
    }
   ],
   "source": [
    "# Exemplo: importantando todo o pacote, sem precisar referenciar objetos\n",
    "# Exemplo de uso simples do comando plot()\n",
    "\n",
    "from matplotlib.pylab import *\n",
    "\n",
    "def f(t):\n",
    " return t**2*exp(-t**2)\n",
    "t = linspace(0, 3, 31) # geração de 31 pontos linearmente espaçados entre 0 e 3\n",
    "y = zeros(len(t)) # alocar lista y com mesma dimensão de t\n",
    "print(y)\n",
    "\n",
    "for i in range(len(t)):\n",
    " y[i] = f(t[i])\n",
    "plot(t, y)\n",
    "show()"
   ]
  },
  {
   "cell_type": "code",
   "execution_count": 8,
   "metadata": {
    "collapsed": false
   },
   "outputs": [
    {
     "data": {
      "image/png": "[encoded data removed]",
      "text/plain": [
       "<matplotlib.figure.Figure at 0x10ab14550>"
      ]
     },
     "metadata": {},
     "output_type": "display_data"
    }
   ],
   "source": [
    "# Exemplo de uso simples do comando plot()\n",
    "# Incorporação de: Título do Gráfico e dos eixos, legenda e salvar gráfico\n",
    "\n",
    "for i in range(len(t)):\n",
    " y[i] = f(t[i])\n",
    "plot(t, y)\n",
    "\n",
    "xlabel(\"tempo(s)\")\n",
    "ylabel(\"y - Nível (m)\")\n",
    "legend([\"t^2*exp(-t^2)\"])\n",
    "axis([0, 3, -0.05, 0.6]) # [tmin, tmax, ymin, ymax]\n",
    "title(\"Título do Gráfico\")\n",
    "savefig(\"tmp1.pdf\")  # Salvar gráfico em .pdf\n",
    "show()"
   ]
  },
  {
   "cell_type": "code",
   "execution_count": 9,
   "metadata": {
    "collapsed": false
   },
   "outputs": [
    {
     "data": {
      "image/png": "[encoded data removed]",
      "text/plain": [
       "<matplotlib.figure.Figure at 0x10de8e588>"
      ]
     },
     "metadata": {},
     "output_type": "display_data"
    }
   ],
   "source": [
    "# Exemplo de uso simples do comando plot()\n",
    "# Incorporação o Grid no gráfico\n",
    "\n",
    "for i in range(len(t)):\n",
    " y[i] = f(t[i])\n",
    "plot(t, y)\n",
    "\n",
    "xlabel(\"tempo(s)\")\n",
    "ylabel(\"y - Nível (m)\")\n",
    "legend([\"t^2*exp(-t^2)\"])\n",
    "axis([0, 3, -0.05, 0.6]) # [tmin, tmax, ymin, ymax]\n",
    "title(\"Título do Gráfico\")\n",
    "grid()\n",
    "show()"
   ]
  },
  {
   "cell_type": "code",
   "execution_count": 10,
   "metadata": {
    "collapsed": false
   },
   "outputs": [
    {
     "data": {
      "image/png": "[encoded data removed]",
      "text/plain": [
       "<matplotlib.figure.Figure at 0x10e0b85f8>"
      ]
     },
     "metadata": {},
     "output_type": "display_data"
    }
   ],
   "source": [
    "# Exemplo de uso simples do comando plot()\n",
    "# Como plotar múltiplos gráficos num mesmo plot\n",
    "\n",
    "def f1(t):\n",
    " return t**2*exp(-t**2)\n",
    "def f2(t):\n",
    " return t**2*f1(t)\n",
    "\n",
    "t = linspace(0, 3, 51)\n",
    "y1 = f1(t)\n",
    "y2 = f2(t)\n",
    "plot(t, y1)\n",
    "#hold(\"on\")   # Não há a necessidade \n",
    "plot(t, y2)\n",
    "xlabel(\"tempo\")\n",
    "ylabel(\"y\")\n",
    "legend([\"t^2*exp(-t^2)\", \"t^4*exp(-t^2)\"])\n",
    "title(\"Plotando duas curvas num mesmo gráfico\")\n",
    "show()"
   ]
  },
  {
   "cell_type": "code",
   "execution_count": 11,
   "metadata": {
    "collapsed": false
   },
   "outputs": [
    {
     "data": {
      "image/png": "[encoded data removed]",
      "text/plain": [
       "<matplotlib.figure.Figure at 0x10df1c860>"
      ]
     },
     "metadata": {},
     "output_type": "display_data"
    }
   ],
   "source": [
    "# Exemplo de uso simples do comando plot()\n",
    "# Como plotar múltiplos gráficos num mesmo plot\n",
    "# Com Especificação da cor e tipo do traçado dos gráficos\n",
    "\n",
    "def f1(t):\n",
    " return t**2*exp(-t**2)\n",
    "def f2(t):\n",
    " return t**2*f1(t)\n",
    "\n",
    "t = linspace(0, 3, 51)\n",
    "y1 = f1(t)\n",
    "y2 = f2(t)\n",
    "plot(t, y1, \"r-\")\n",
    "#hold(\"on\")   # Não há a necessidade \n",
    "plot(t, y2, \"bo\")\n",
    "xlabel(\"tempo\")\n",
    "ylabel(\"y\")\n",
    "legend([\"t^2*exp(-t^2)\", \"t^4*exp(-t^2)\"])\n",
    "title(\"Plotando duas curvas num mesmo gráfico\")\n",
    "show()"
   ]
  },
  {
   "cell_type": "code",
   "execution_count": 12,
   "metadata": {
    "collapsed": false
   },
   "outputs": [
    {
     "data": {
      "image/png": "[encoded data removed]",
      "text/plain": [
       "<matplotlib.figure.Figure at 0x10ab07908>"
      ]
     },
     "metadata": {},
     "output_type": "display_data"
    }
   ],
   "source": [
    "# Exemplo de uso simples do comando plot()\n",
    "# Como plotar múltiplos gráficos num mesmo plot\n",
    "# Utilizando apenas um comando plot\n",
    "\n",
    "def f1(t):\n",
    " return t**2*exp(-t**2)\n",
    "def f2(t):\n",
    " return t**2*f1(t)\n",
    "\n",
    "t = linspace(0, 3, 51)\n",
    "y1 = f1(t)\n",
    "y2 = f2(t)\n",
    "plot(t, y1, t, y2)\n",
    "xlabel(\"tempo\")\n",
    "ylabel(\"y\")\n",
    "legend([\"t^2*exp(-t^2)\", \"t^4*exp(-t^2)\"])\n",
    "title(\"Plotando duas curvas num mesmo gráfico\")\n",
    "show()"
   ]
  },
  {
   "cell_type": "markdown",
   "metadata": {},
   "source": [
    "Exercício - Reescreva o programa anterior, mas com grid e especificando o tipo de traçado:\n",
    "- y1 --> vermelho com linhas\n",
    "- y2 --> azul com pontos\n",
    "\n",
    "Salve o gráfico no arquivo \"tmp2.pdf\""
   ]
  },
  {
   "cell_type": "code",
   "execution_count": 13,
   "metadata": {
    "collapsed": true
   },
   "outputs": [],
   "source": [
    "# Exercício: Plotar dos gráficos num mesmo plot \n",
    "# com especificação de cor e tipo do traçado\n",
    "\n"
   ]
  },
  {
   "cell_type": "code",
   "execution_count": 14,
   "metadata": {
    "collapsed": false
   },
   "outputs": [],
   "source": [
    "# Exemplo - os gráficos podem ser salvos em diversos formatos \n",
    "\n",
    "import pylab\n",
    "import numpy as np\n",
    "x = np.arange ( -3.14 , 3.14 , 0.01)\n",
    "y = np.sin(x)\n",
    "pylab.plot (x, y, label = 'função seno')\n",
    "\n",
    "pylab.savefig (\"myplot.png\") # saves png file\n",
    "pylab.savefig (\"myplot.eps\") # saves eps file\n",
    "pylab.savefig (\"myplot.pdf\")"
   ]
  },
  {
   "cell_type": "code",
   "execution_count": 15,
   "metadata": {
    "collapsed": false
   },
   "outputs": [
    {
     "data": {
      "image/png": "[encoded data removed]",
      "text/plain": [
       "<matplotlib.figure.Figure at 0x10e334cc0>"
      ]
     },
     "metadata": {},
     "output_type": "display_data"
    }
   ],
   "source": [
    "# Exemplo\n",
    "import numpy as np # \n",
    "import matplotlib.pyplot as plt # \n",
    "x = np. arange ( -3.14 , 4*3.14 , 0.01) # criação do array x\n",
    "y1 = np.sin(x) \n",
    "plt. plot (x, y1) \n",
    "plt. show ()"
   ]
  },
  {
   "cell_type": "markdown",
   "metadata": {},
   "source": [
    "Exercício:\n",
    "\n",
    "Baseando-se no exempo a cima, escreva uma programa que num mesmo plot trace os seguintes gráficos:\n",
    "- $y1 = sin(x) + 1$\n",
    "- $y2 = 1.5*cos(x) - .5$\n",
    "- $y3 = max(y1,y2)$\n",
    "- $y4 = mim(y1,y2)$\n",
    "\n",
    "Escolha as cores e formato dos gráficos, com grid e salve a figura no arquivo \"tmp3.pdf\""
   ]
  },
  {
   "cell_type": "code",
   "execution_count": 16,
   "metadata": {
    "collapsed": false
   },
   "outputs": [
    {
     "data": {
      "image/png": "[encoded data removed]",
      "text/plain": [
       "<matplotlib.figure.Figure at 0x10de96c18>"
      ]
     },
     "metadata": {},
     "output_type": "display_data"
    }
   ],
   "source": [
    "# Exercício:\n",
    "x = np.arange ( -3.14 , 4*3.14 , 0.01) # criação do array x\n",
    "y1 = np.sin(x)+1\n",
    "y2 = (np.cos(x)*1.5) - 0.5\n",
    "\n",
    "tempMax = np.maximum(y1,y2)\n",
    "y3 = np.full((x.size),np.max(tempMax))\n",
    "\n",
    "tempMin = np.minimum(y1,y2)\n",
    "y4 = np.full((x.size),np.min(tempMin)) \n",
    "\n",
    "plt.plot (x, y1) \n",
    "plt.plot (x, y2)\n",
    "plt.plot (x, y3)\n",
    "plt.plot (x, y4)\n",
    "plt.show ()"
   ]
  },
  {
   "cell_type": "code",
   "execution_count": 32,
   "metadata": {
    "collapsed": false,
    "scrolled": true
   },
   "outputs": [
    {
     "data": {
      "image/png": "[encoded data removed]",
      "text/plain": [
       "<matplotlib.figure.Figure at 0x10e570198>"
      ]
     },
     "metadata": {},
     "output_type": "display_data"
    }
   ],
   "source": [
    "# Exemplo de definição de cor das curvas nos gráficos\n",
    "import numpy as np\n",
    "plt.close('all')\n",
    "x = np.linspace(0, 10, 100)\n",
    "plt.plot(x, np.sin(x - 0), color='blue') # especificação da cor pelo nome\n",
    "plt.plot(x, np.sin(x - 1), color='g') # especificação por código (rgbcmyk)\n",
    "plt.plot(x, np.sin(x - 2), color='0.75') # Escale de cinza entre 0 e 1\n",
    "plt.plot(x, np.sin(x - 3), color='#FFDD44') # Hex code (RRGGBB de 00 até FF)\n",
    "plt.plot(x, np.sin(x - 4), color=(1.0,0.2,0.3)) # RGB tuple, valures entre 0 e 1\n",
    "plt.plot(x, np.sin(x - 5), color='chartreuse'); # todas cores suportadas em HTML\n",
    "plt.show()"
   ]
  },
  {
   "cell_type": "code",
   "execution_count": 35,
   "metadata": {
    "collapsed": false
   },
   "outputs": [
    {
     "data": {
      "image/png": "[encoded data removed]",
      "text/plain": [
       "<matplotlib.figure.Figure at 0x10e0b01d0>"
      ]
     },
     "metadata": {},
     "output_type": "display_data"
    },
    {
     "data": {
      "image/png": "[encoded data removed]",
      "text/plain": [
       "<matplotlib.figure.Figure at 0x10aaf6358>"
      ]
     },
     "metadata": {},
     "output_type": "display_data"
    }
   ],
   "source": [
    "# Exemplo de definição de estilo das curvas nos gráficos\n",
    "import numpy as np\n",
    "x = np.linspace(0, 10, 100)\n",
    "\n",
    "plt.close('all')\n",
    "\n",
    "plt.plot(x, x + 0, linestyle='solid')\n",
    "plt.plot(x, x + 1, linestyle='dashed')\n",
    "plt.plot(x, x + 2, linestyle='dashdot')\n",
    "plt.plot(x, x + 3, linestyle='dotted');\n",
    "plt.show()\n",
    "\n",
    "plt.close('all')\n",
    "# Especificação usando a forma em código:\n",
    "plt.plot(x, x + 10, linestyle='-') # solid\n",
    "plt.plot(x, x + 11, linestyle='--') # dashed\n",
    "plt.plot(x, x + 12, linestyle='-.') # dashdot\n",
    "plt.plot(x, x + 13, linestyle=':'); # dotted\n",
    "\n",
    "plt.show()"
   ]
  },
  {
   "cell_type": "code",
   "execution_count": 37,
   "metadata": {
    "collapsed": false
   },
   "outputs": [
    {
     "data": {
      "image/png": "[encoded data removed]",
      "text/plain": [
       "<matplotlib.figure.Figure at 0x10e876c50>"
      ]
     },
     "metadata": {},
     "output_type": "display_data"
    }
   ],
   "source": [
    "# Exemplo de definição de cor e estilo das curvas nos gráficos\n",
    "import numpy as np\n",
    "x = np.linspace(0, 10, 100)\n",
    "\n",
    "plt.plot(x, x + 0, '-g') # solid green\n",
    "plt.plot(x, x + 1, '--c') # dashed cyan\n",
    "plt.plot(x, x + 2, '-.k') # dashdot black\n",
    "plt.plot(x, x + 3, ':r'); # dotted red\n",
    "plt.show()"
   ]
  },
  {
   "cell_type": "code",
   "execution_count": 38,
   "metadata": {
    "collapsed": false
   },
   "outputs": [
    {
     "data": {
      "image/png": "[encoded data removed]",
      "text/plain": [
       "<matplotlib.figure.Figure at 0x10e85a438>"
      ]
     },
     "metadata": {},
     "output_type": "display_data"
    }
   ],
   "source": [
    "# Exemplo de definição de cor e estilo das curvas nos gráficos\n",
    "plt.plot(x, np.sin(x), '-ok');\n",
    "plt.show()"
   ]
  },
  {
   "cell_type": "code",
   "execution_count": 21,
   "metadata": {
    "collapsed": false
   },
   "outputs": [],
   "source": [
    "# Exemplo - Determinando limite de um gráfico\n",
    "plt.plot(x, np.sin(x))\n",
    "plt.xlim(-1, 11)\n",
    "plt.ylim(-1.5, 1.5);"
   ]
  },
  {
   "cell_type": "code",
   "execution_count": 22,
   "metadata": {
    "collapsed": true
   },
   "outputs": [],
   "source": [
    "# Exemplo - Determinando limite de um gráfico\n",
    "plt.plot(x, np.sin(x))\n",
    "plt.xlim(10, 0)\n",
    "plt.ylim(1.2, -1.2);"
   ]
  },
  {
   "cell_type": "code",
   "execution_count": 23,
   "metadata": {
    "collapsed": false
   },
   "outputs": [],
   "source": [
    "# Exemplo - Determinando limite de um gráfico\n",
    "# Método plt.axis([xmin, xmax, ymin,ymax])\n",
    "plt.plot(x, np.sin(x))\n",
    "plt.axis([-1, 11, -1.5, 1.5]);"
   ]
  },
  {
   "cell_type": "code",
   "execution_count": 24,
   "metadata": {
    "collapsed": false
   },
   "outputs": [],
   "source": [
    "# Exemplo - Determinando limite de um gráfico\n",
    "plt.plot(x, np.sin(x))\n",
    "plt.axis('tight'); # indica que se deseja utilizar 100% do gráfico"
   ]
  },
  {
   "cell_type": "code",
   "execution_count": 25,
   "metadata": {
    "collapsed": false
   },
   "outputs": [],
   "source": [
    "# Exemplo - Outro modo de definir a legenda do gráfico\n",
    "import numpy as np\n",
    "x = np.linspace(0, 10, 100)\n",
    "\n",
    "plt.plot(x, np.sin(x), '-g', label='sin(x)')\n",
    "plt.plot(x, np.cos(x), ':b', label='cos(x)')\n",
    "plt.legend();"
   ]
  },
  {
   "cell_type": "markdown",
   "metadata": {},
   "source": [
    "Para se plotar mais de um gráfico, precisamos definir o conceito de figura.\n",
    "- Numa figura é possível se definir diversos subplots.\n",
    "   - criação da figura  --> figure(num_figura)\n",
    "   - criação do subplot --> subplot(num_linha, num_coluna, num_grafico)"
   ]
  },
  {
   "cell_type": "code",
   "execution_count": 51,
   "metadata": {
    "collapsed": false,
    "scrolled": true
   },
   "outputs": [
    {
     "ename": "ValueError",
     "evalue": "Illegal argument(s) to subplot: (2, 1, 1, 3)",
     "output_type": "error",
     "traceback": [
      "\u001b[0;31m---------------------------------------------------------------------------\u001b[0m",
      "\u001b[0;31mValueError\u001b[0m                                Traceback (most recent call last)",
      "\u001b[0;32m<ipython-input-51-f931ac05ddea>\u001b[0m in \u001b[0;36m<module>\u001b[0;34m()\u001b[0m\n\u001b[1;32m      4\u001b[0m \u001b[0mfigure\u001b[0m\u001b[0;34m(\u001b[0m\u001b[0;34m)\u001b[0m \u001b[0;31m# criação da figura\u001b[0m\u001b[0;34m\u001b[0m\u001b[0m\n\u001b[1;32m      5\u001b[0m \u001b[0;34m\u001b[0m\u001b[0m\n\u001b[0;32m----> 6\u001b[0;31m \u001b[0msubplot\u001b[0m\u001b[0;34m(\u001b[0m\u001b[0;36m2\u001b[0m\u001b[0;34m,\u001b[0m \u001b[0;36m1\u001b[0m\u001b[0;34m,\u001b[0m \u001b[0;36m1\u001b[0m\u001b[0;34m,\u001b[0m\u001b[0;36m3\u001b[0m\u001b[0;34m)\u001b[0m \u001b[0;31m# 2 rows 1 column\u001b[0m\u001b[0;34m\u001b[0m\u001b[0m\n\u001b[0m\u001b[1;32m      7\u001b[0m \u001b[0msubplot\u001b[0m\u001b[0;34m(\u001b[0m\u001b[0;36m2\u001b[0m\u001b[0;34m,\u001b[0m\u001b[0;36m1\u001b[0m\u001b[0;34m,\u001b[0m\u001b[0;36m2\u001b[0m\u001b[0;34m)\u001b[0m\u001b[0;34m\u001b[0m\u001b[0m\n\u001b[1;32m      8\u001b[0m \u001b[0;34m\u001b[0m\u001b[0m\n",
      "\u001b[0;32m/Users/miguelsilvadarochajunior/anaconda3/lib/python3.6/site-packages/matplotlib/pyplot.py\u001b[0m in \u001b[0;36msubplot\u001b[0;34m(*args, **kwargs)\u001b[0m\n\u001b[1;32m   1042\u001b[0m \u001b[0;34m\u001b[0m\u001b[0m\n\u001b[1;32m   1043\u001b[0m     \u001b[0mfig\u001b[0m \u001b[0;34m=\u001b[0m \u001b[0mgcf\u001b[0m\u001b[0;34m(\u001b[0m\u001b[0;34m)\u001b[0m\u001b[0;34m\u001b[0m\u001b[0m\n\u001b[0;32m-> 1044\u001b[0;31m     \u001b[0ma\u001b[0m \u001b[0;34m=\u001b[0m \u001b[0mfig\u001b[0m\u001b[0;34m.\u001b[0m\u001b[0madd_subplot\u001b[0m\u001b[0;34m(\u001b[0m\u001b[0;34m*\u001b[0m\u001b[0margs\u001b[0m\u001b[0;34m,\u001b[0m \u001b[0;34m**\u001b[0m\u001b[0mkwargs\u001b[0m\u001b[0;34m)\u001b[0m\u001b[0;34m\u001b[0m\u001b[0m\n\u001b[0m\u001b[1;32m   1045\u001b[0m     \u001b[0mbbox\u001b[0m \u001b[0;34m=\u001b[0m \u001b[0ma\u001b[0m\u001b[0;34m.\u001b[0m\u001b[0mbbox\u001b[0m\u001b[0;34m\u001b[0m\u001b[0m\n\u001b[1;32m   1046\u001b[0m     \u001b[0mbyebye\u001b[0m \u001b[0;34m=\u001b[0m \u001b[0;34m[\u001b[0m\u001b[0;34m]\u001b[0m\u001b[0;34m\u001b[0m\u001b[0m\n",
      "\u001b[0;32m/Users/miguelsilvadarochajunior/anaconda3/lib/python3.6/site-packages/matplotlib/figure.py\u001b[0m in \u001b[0;36madd_subplot\u001b[0;34m(self, *args, **kwargs)\u001b[0m\n\u001b[1;32m   1019\u001b[0m                     \u001b[0mself\u001b[0m\u001b[0;34m.\u001b[0m\u001b[0m_axstack\u001b[0m\u001b[0;34m.\u001b[0m\u001b[0mremove\u001b[0m\u001b[0;34m(\u001b[0m\u001b[0max\u001b[0m\u001b[0;34m)\u001b[0m\u001b[0;34m\u001b[0m\u001b[0m\n\u001b[1;32m   1020\u001b[0m \u001b[0;34m\u001b[0m\u001b[0m\n\u001b[0;32m-> 1021\u001b[0;31m             \u001b[0ma\u001b[0m \u001b[0;34m=\u001b[0m \u001b[0msubplot_class_factory\u001b[0m\u001b[0;34m(\u001b[0m\u001b[0mprojection_class\u001b[0m\u001b[0;34m)\u001b[0m\u001b[0;34m(\u001b[0m\u001b[0mself\u001b[0m\u001b[0;34m,\u001b[0m \u001b[0;34m*\u001b[0m\u001b[0margs\u001b[0m\u001b[0;34m,\u001b[0m \u001b[0;34m**\u001b[0m\u001b[0mkwargs\u001b[0m\u001b[0;34m)\u001b[0m\u001b[0;34m\u001b[0m\u001b[0m\n\u001b[0m\u001b[1;32m   1022\u001b[0m \u001b[0;34m\u001b[0m\u001b[0m\n\u001b[1;32m   1023\u001b[0m         \u001b[0mself\u001b[0m\u001b[0;34m.\u001b[0m\u001b[0m_axstack\u001b[0m\u001b[0;34m.\u001b[0m\u001b[0madd\u001b[0m\u001b[0;34m(\u001b[0m\u001b[0mkey\u001b[0m\u001b[0;34m,\u001b[0m \u001b[0ma\u001b[0m\u001b[0;34m)\u001b[0m\u001b[0;34m\u001b[0m\u001b[0m\n",
      "\u001b[0;32m/Users/miguelsilvadarochajunior/anaconda3/lib/python3.6/site-packages/matplotlib/axes/_subplots.py\u001b[0m in \u001b[0;36m__init__\u001b[0;34m(self, fig, *args, **kwargs)\u001b[0m\n\u001b[1;32m     66\u001b[0m                 \u001b[0;31m# num - 1 for converting from MATLAB to python indexing\u001b[0m\u001b[0;34m\u001b[0m\u001b[0;34m\u001b[0m\u001b[0m\n\u001b[1;32m     67\u001b[0m         \u001b[0;32melse\u001b[0m\u001b[0;34m:\u001b[0m\u001b[0;34m\u001b[0m\u001b[0m\n\u001b[0;32m---> 68\u001b[0;31m             \u001b[0;32mraise\u001b[0m \u001b[0mValueError\u001b[0m\u001b[0;34m(\u001b[0m\u001b[0;34m'Illegal argument(s) to subplot: %s'\u001b[0m \u001b[0;34m%\u001b[0m \u001b[0;34m(\u001b[0m\u001b[0margs\u001b[0m\u001b[0;34m,\u001b[0m\u001b[0;34m)\u001b[0m\u001b[0;34m)\u001b[0m\u001b[0;34m\u001b[0m\u001b[0m\n\u001b[0m\u001b[1;32m     69\u001b[0m \u001b[0;34m\u001b[0m\u001b[0m\n\u001b[1;32m     70\u001b[0m         \u001b[0mself\u001b[0m\u001b[0;34m.\u001b[0m\u001b[0mupdate_params\u001b[0m\u001b[0;34m(\u001b[0m\u001b[0;34m)\u001b[0m\u001b[0;34m\u001b[0m\u001b[0m\n",
      "\u001b[0;31mValueError\u001b[0m: Illegal argument(s) to subplot: (2, 1, 1, 3)"
     ]
    }
   ],
   "source": [
    "# Exemplo de subplots\n",
    "# Plotando mais de um plot numa mesma figura\n",
    "\n",
    "figure() # criação da figura\n",
    "\n",
    "subplot(2, 1, 1) # 2 rows 1 column\n",
    "subplot(2,1,2)\n",
    "\n",
    "t = linspace(0, 3, 51)\n",
    "y1 = f1(t)\n",
    "y2 = f2(t)\n",
    "t3 = t[::4]\n",
    "y3 = f2(t3)\n",
    "\n",
    "#  ------ definição do subplot 1   -----------\n",
    "subplot(2, 2, 3)\n",
    "plot(t, y1, \"r-\", t, y2, \"bo\")\n",
    "xlabel(\"t\")\n",
    "ylabel(\"y1\")\n",
    "axis([t[0], t[-1], min(y2)-0.05, max(y2)+0.5])\n",
    "legend([\"t^2*exp(-t^2)\", \"t^4*exp(-t^2)\"])\n",
    "title(\"Título do sub_plot1\")\n",
    "\n",
    "\n",
    "#  ------ definição do subplot 2   -----------\n",
    "subplot(2, 2, 4)\n",
    "plot(t, y1, \"b-\", t3, y3, \"ys\")\n",
    "xlabel(\"t\")\n",
    "ylabel(\"y2\")\n",
    "axis([0, 4, -0.2, 0.6])\n",
    "legend([\"t^2*exp(-t^2)\", \"t^4*exp(-t^2)\"])\n",
    "show()"
   ]
  },
  {
   "cell_type": "code",
   "execution_count": null,
   "metadata": {
    "collapsed": false
   },
   "outputs": [],
   "source": [
    "# Exemplo de subplots\n",
    "# Plotando mais de um plot numa mesma figura\n",
    "\n",
    "\n",
    "print(\"------------------------------------------------------------\")\n",
    "print(\"Verifique o que mudou neste programa com relação ao anterior\")\n",
    "print(\"------------------------------------------------------------\")\n",
    "\n",
    "figure() # criação da figura - no caso não se especificou o número da figura\n",
    "\n",
    "subplot(2, 1, 1)\n",
    "\n",
    "t = linspace(0, 3, 51)\n",
    "y1 = f1(t)\n",
    "y2 = f2(t)\n",
    "t3 = t[::4]\n",
    "y3 = f2(t3)\n",
    "\n",
    "#  ------ definição do subplot 1   -----------\n",
    "subplot(2, 1, 1)\n",
    "plot(t, y1, \"r-\", t, y2, \"bo\")\n",
    "xlabel(\"t\")\n",
    "ylabel(\"y1\")\n",
    "axis([t[0], t[-1], min(y2)-0.05, max(y2)+0.5])\n",
    "legend([\"t^2*exp(-t^2)\", \"t^4*exp(-t^2)\"])\n",
    "title(\"Título do sub_plot1\")\n",
    "\n",
    "\n",
    "#  ------ definição do subplot 2   -----------\n",
    "subplot(2, 2, 4)\n",
    "plot(t, y1, \"b-\", t3, y3, \"ys\")\n",
    "xlabel(\"t\")\n",
    "ylabel(\"y2\")\n",
    "axis([0, 4, -0.2, 0.6])\n",
    "legend([\"t^2*exp(-t^2)\", \"t^4*exp(-t^2)\"])\n",
    "\n",
    "show()"
   ]
  },
  {
   "cell_type": "markdown",
   "metadata": {},
   "source": [
    "Exercício -  Reescreva o programa anterior, com:\n",
    "- 03 subplots, sendo 02 em cima e 01 em baixo\n",
    "- inclua grid no subplot de baixo\n",
    "- salve a figura no arquivo \"tmp4.pdf\""
   ]
  },
  {
   "cell_type": "code",
   "execution_count": null,
   "metadata": {
    "collapsed": true
   },
   "outputs": [],
   "source": [
    "# Exercício: Programa com vários sub-plots\n"
   ]
  },
  {
   "cell_type": "code",
   "execution_count": null,
   "metadata": {
    "collapsed": false
   },
   "outputs": [],
   "source": [
    "# Exemplo de subplots\n",
    "# Escrevendo texto (string) num plot\n",
    "\n",
    "for i in range(1, 7):\n",
    " plt.subplot(2, 3, i)\n",
    " plt.text(0.5, 0.5, str((2, 3, i)),\n",
    "          fontsize=18, ha='center')"
   ]
  },
  {
   "cell_type": "code",
   "execution_count": null,
   "metadata": {
    "collapsed": false
   },
   "outputs": [],
   "source": [
    "# Exemplo de gráficos superpostos\n",
    "\n",
    "from pylab import *\n",
    "x = linspace(0, 5, 10)\n",
    "y = x ** 2\n",
    "\n",
    "fig = plt.figure()\n",
    "axes1 = fig.add_axes([0.1, 0.1, 0.8, 0.8]) # axes da figura principal\n",
    "axes2 = fig.add_axes([0.2, 0.5, 0.4, 0.3]) # inset axes - figura secundária\n",
    "\n",
    "# Figura Principal\n",
    "axes1.plot(x, y, 'r')\n",
    "axes1.set_xlabel('x')\n",
    "axes1.set_ylabel('y')\n",
    "axes1.set_title('Título Principal')\n",
    "\n",
    "# Segunda Figura\n",
    "axes2.plot(y, x, 'g')\n",
    "axes2.set_xlabel('y')\n",
    "axes2.set_ylabel('x')\n",
    "axes2.set_title('Título da segunda figura');"
   ]
  },
  {
   "cell_type": "markdown",
   "metadata": {},
   "source": [
    "No programa a baixo, varie os parâmetros dos gráficos e infira o que eles significam. "
   ]
  },
  {
   "cell_type": "code",
   "execution_count": null,
   "metadata": {
    "collapsed": true
   },
   "outputs": [],
   "source": [
    "# Exemplo de gráficos superpostos\n",
    "\n",
    "from pylab import *\n",
    "x = linspace(0, 5, 10)\n",
    "y = x ** 2\n",
    "\n",
    "#  ------  Parâmetros dos gráficos   -------------\n",
    "baseX1 = 0.1\n",
    "baseY1 = 0.1\n",
    "dX1 = 0.8\n",
    "dY1 = 0.8\n",
    "\n",
    "baseX2 = 0.2\n",
    "baseY2 = 0.5\n",
    "dX2 = 0.4\n",
    "dY2 = 0.3\n",
    "\n",
    "fig = plt.figure()\n",
    "axes1 = fig.add_axes([baseX1, baseY1, dX1, dY1]) # axes da figura principal\n",
    "axes2 = fig.add_axes([baseX2, baseY2, dX2, dY2]) # inset axes - figura secundária\n",
    "\n",
    "# Figura Principal\n",
    "axes1.plot(x, y, 'r')\n",
    "axes1.set_xlabel('x')\n",
    "axes1.set_ylabel('y')\n",
    "axes1.set_title('Título Principal')\n",
    "\n",
    "# Segunda Figura\n",
    "axes2.plot(y, x, 'g')\n",
    "axes2.set_xlabel('y')\n",
    "axes2.set_ylabel('x')\n",
    "axes2.set_title('Título da segunda figura');"
   ]
  },
  {
   "cell_type": "code",
   "execution_count": null,
   "metadata": {
    "collapsed": false
   },
   "outputs": [],
   "source": [
    "# Exemplo: Uso de mais de uma figura\n",
    "\n",
    "import pylab\n",
    "pylab.figure(1)\n",
    "pylab.plot( range (10) , 'ro')\n",
    "pylab.figure(2)\n",
    "pylab.plot ( range (100) , 'x')"
   ]
  },
  {
   "cell_type": "markdown",
   "metadata": {},
   "source": [
    "## Estilos Matlab e Orientado-a-objetos\n",
    "- Hieraquia de figuras, eixos, gráficos\n",
    "- simplicidade x flexibilidade\n",
    "- Como se pode mudificar uma figura e ou um eixo, quando se há vários deles?"
   ]
  },
  {
   "cell_type": "code",
   "execution_count": null,
   "metadata": {
    "collapsed": false
   },
   "outputs": [],
   "source": [
    "# Exemplo: Sub-plots com Estilo Matlab\n",
    "import numpy as np\n",
    "x = np.linspace(0, 10, 100)\n",
    "\n",
    "plt.figure() # criar uma figura\n",
    "\n",
    "# criação do primeiro de dois paineis and configurar o eixo (sub-plot)\n",
    "plt.subplot(2, 1, 1) # (linhas, colunas, número do painel)\n",
    "plt.plot(x, np.sin(x))\n",
    "\n",
    "# criação do segundo painel e configuração do eixo (sub-plot)\n",
    "plt.subplot(2, 1, 2)\n",
    "plt.plot(x, np.cos(x));"
   ]
  },
  {
   "cell_type": "code",
   "execution_count": null,
   "metadata": {
    "collapsed": false
   },
   "outputs": [],
   "source": [
    "# Exemplo: Sub-plots com Estilo Orientado-a-Objetos\n",
    "\n",
    "# Primeiro, cria-se um estrutura em grade de plots\n",
    "\n",
    "# ax será um array de dois objetos eixos (objetos sub-plot)\n",
    "# fig será a figura\n",
    "fig, ax = plt.subplots(2)\n",
    "\n",
    "# Chamada do método plot() sobre os objetos eixos (plot) específicos\n",
    "ax[0].plot(x, np.sin(x))\n",
    "ax[1].plot(x, np.cos(x));"
   ]
  },
  {
   "cell_type": "code",
   "execution_count": null,
   "metadata": {
    "collapsed": false
   },
   "outputs": [],
   "source": [
    "# Exemplo: Sub-plots com Estilo Orientado-a-Objetos\n",
    "\n",
    "# Primeiro, cria-se um estrutura em grade de plots\n",
    "\n",
    "# ax será um array de dois objetos eixos (objetos sub-plot)\n",
    "# fig será a figura\n",
    "#fig, ax = plt.subplots(2)\n",
    "fig, ax = plt.subplots(2,2)\n",
    "\n",
    "# Chamada do método plot() sobre os objetos eixos (plot) específicos\n",
    "ax[0][0].plot(x, np.sin(x))\n",
    "ax[1][1].plot(x, np.cos(x));"
   ]
  },
  {
   "cell_type": "code",
   "execution_count": null,
   "metadata": {
    "collapsed": false
   },
   "outputs": [],
   "source": [
    "# Exemplo: Sub-plots com Estilo Orientado-a-Objetos\n",
    "\n",
    "# Primeiro, cria-se um estrutura em grade de plots\n",
    "\n",
    "# ax será um array de dois objetos eixos (objetos sub-plot)\n",
    "# fig será a figura\n",
    "fig, ax = plt.subplots(2,2)\n",
    "\n",
    "# Chamada do método plot() sobre os objetos eixos (plot) específicos\n",
    "ax[0,0].plot(x, np.sin(x))\n",
    "ax[1,1].plot(x, np.cos(x));"
   ]
  },
  {
   "cell_type": "code",
   "execution_count": null,
   "metadata": {
    "collapsed": false
   },
   "outputs": [],
   "source": [
    "# Exemplo: Retorno de figura e eixos - Estilo Clássico\n",
    "#plt.style.use('classic')\n",
    "fig = plt.figure()\n",
    "ax = plt.axes()"
   ]
  },
  {
   "cell_type": "code",
   "execution_count": null,
   "metadata": {
    "collapsed": false
   },
   "outputs": [],
   "source": [
    "# Exemplo: Retorno de figura e eixos - Estilo Seaborn\n",
    "plt.style.use('seaborn-whitegrid')\n",
    "fig = plt.figure()\n",
    "ax = plt.axes()"
   ]
  },
  {
   "cell_type": "code",
   "execution_count": null,
   "metadata": {
    "collapsed": false
   },
   "outputs": [],
   "source": [
    "# Exemplo - Estilo Orientado-a-Objetos\n",
    "# plot é método do objeto eixo (axes - gráfico) - plt\n",
    "# \n",
    "fig = plt.figure()\n",
    "ax = plt.axes()\n",
    "x = np.linspace(0, 10, 1000)\n",
    "ax.plot(x, np.sin(x));\n",
    "\n",
    "# plt.plot(x, np.sin(x)); Usando a interface pylab - Estilo Matlab"
   ]
  },
  {
   "cell_type": "markdown",
   "metadata": {},
   "source": [
    "Nem todos os métodos do estilo Matlab tem correspondência para Orientação-a-Objetos. \n",
    "\n",
    "A baixo, segue alguns exemplos de métodos equivalentes nos dois estilos:\n",
    "\n",
    "\n",
    "• plt.xlabel() → ax.set_xlabel()\n",
    "\n",
    "• plt.ylabel() → ax.set_ylabel()\n",
    "\n",
    "• plt.xlim() → ax.set_xlim()\n",
    "\n",
    "• plt.ylim() → ax.set_ylim()\n",
    "\n",
    "• plt.title() → ax.set_title()"
   ]
  },
  {
   "cell_type": "code",
   "execution_count": null,
   "metadata": {
    "collapsed": false
   },
   "outputs": [],
   "source": [
    "# Exemplo - Estilo Orientado-a-Objetos\n",
    "\n",
    "ax = plt.axes()\n",
    "ax.plot(x, np.sin(x))\n",
    "ax.set(xlim=(0, 10), ylim=(-2, 2), \n",
    "       xlabel='x', ylabel='sin(x)',\n",
    "       title='A Simple Plot');"
   ]
  },
  {
   "cell_type": "markdown",
   "metadata": {},
   "source": [
    "Visando rodar os próximos exemplos será necessário executar as células abaixo, para carregar as seguinte veriáveis:\n",
    "\n",
    "    - life_exp, que contém os valores da expectativa de vida para uma lista de países.\n",
    "    - gdp_cap, que contém os valores do PIB per capita para cada país, dado em US Dollars."
   ]
  },
  {
   "cell_type": "code",
   "execution_count": null,
   "metadata": {
    "collapsed": true
   },
   "outputs": [],
   "source": [
    "# Expectativa de vida em 2007 para vários países\n",
    "\n",
    "life_exp = [43.828000000000003,\n",
    " 76.423000000000002,\n",
    " 72.301000000000002,\n",
    " 42.731000000000002,\n",
    " 75.319999999999993,\n",
    " 81.234999999999999,\n",
    " 79.828999999999994,\n",
    " 75.635000000000005,\n",
    " 64.061999999999998,\n",
    " 79.441000000000003,\n",
    " 56.728000000000002,\n",
    " 65.554000000000002,\n",
    " 74.852000000000004,\n",
    " 50.728000000000002,\n",
    " 72.390000000000001,\n",
    " 73.004999999999995,\n",
    " 52.295000000000002,\n",
    " 49.579999999999998,\n",
    " 59.722999999999999,\n",
    " 50.43,\n",
    " 80.653000000000006,\n",
    " 44.741000000000007,\n",
    " 50.651000000000003,\n",
    " 78.552999999999997,\n",
    " 72.960999999999999,\n",
    " 72.888999999999996,\n",
    " 65.152000000000001,\n",
    " 46.462000000000003,\n",
    " 55.322000000000003,\n",
    " 78.781999999999996,\n",
    " 48.328000000000003,\n",
    " 75.748000000000005,\n",
    " 78.272999999999996,\n",
    " 76.486000000000004,\n",
    " 78.331999999999994,\n",
    " 54.790999999999997,\n",
    " 72.234999999999999,\n",
    " 74.994,\n",
    " 71.338000000000022,\n",
    " 71.878,\n",
    " 51.578999999999994,\n",
    " 58.039999999999999,\n",
    " 52.947000000000003,\n",
    " 79.313000000000002,\n",
    " 80.656999999999996,\n",
    " 56.734999999999999,\n",
    " 59.448,\n",
    " 79.406000000000006,\n",
    " 60.021999999999998,\n",
    " 79.483000000000004,\n",
    " 70.259,\n",
    " 56.006999999999998,\n",
    " 46.388000000000012,\n",
    " 60.915999999999997,\n",
    " 70.198000000000008,\n",
    " 82.207999999999998,\n",
    " 73.338000000000022,\n",
    " 81.757000000000005,\n",
    " 64.698000000000008,\n",
    " 70.650000000000006,\n",
    " 70.963999999999999,\n",
    " 59.545000000000002,\n",
    " 78.885000000000005,\n",
    " 80.745000000000005,\n",
    " 80.546000000000006,\n",
    " 72.566999999999993,\n",
    " 82.602999999999994,\n",
    " 72.534999999999997,\n",
    " 54.109999999999999,\n",
    " 67.296999999999997,\n",
    " 78.623000000000005,\n",
    " 77.588000000000022,\n",
    " 71.992999999999995,\n",
    " 42.591999999999999,\n",
    " 45.677999999999997,\n",
    " 73.951999999999998,\n",
    " 59.443000000000012,\n",
    " 48.302999999999997,\n",
    " 74.241,\n",
    " 54.466999999999999,\n",
    " 64.164000000000001,\n",
    " 72.801000000000002,\n",
    " 76.194999999999993,\n",
    " 66.802999999999997,\n",
    " 74.543000000000006,\n",
    " 71.164000000000001,\n",
    " 42.082000000000001,\n",
    " 62.069000000000003,\n",
    " 52.906000000000013,\n",
    " 63.784999999999997,\n",
    " 79.762,\n",
    " 80.203999999999994,\n",
    " 72.899000000000001,\n",
    " 56.866999999999997,\n",
    " 46.859000000000002,\n",
    " 80.195999999999998,\n",
    " 75.640000000000001,\n",
    " 65.483000000000004,\n",
    " 75.536999999999978,\n",
    " 71.751999999999995,\n",
    " 71.421000000000006,\n",
    " 71.688000000000002,\n",
    " 75.563000000000002,\n",
    " 78.097999999999999,\n",
    " 78.746000000000024,\n",
    " 76.441999999999993,\n",
    " 72.475999999999999,\n",
    " 46.241999999999997,\n",
    " 65.528000000000006,\n",
    " 72.777000000000001,\n",
    " 63.061999999999998,\n",
    " 74.001999999999995,\n",
    " 42.568000000000012,\n",
    " 79.971999999999994,\n",
    " 74.662999999999997,\n",
    " 77.926000000000002,\n",
    " 48.158999999999999,\n",
    " 49.338999999999999,\n",
    " 80.941000000000003,\n",
    " 72.396000000000001,\n",
    " 58.555999999999997,\n",
    " 39.613,\n",
    " 80.884,\n",
    " 81.701000000000022,\n",
    " 74.143000000000001,\n",
    " 78.400000000000006,\n",
    " 52.517000000000003,\n",
    " 70.616,\n",
    " 58.420000000000002,\n",
    " 69.819000000000003,\n",
    " 73.923000000000002,\n",
    " 71.777000000000001,\n",
    " 51.542000000000002,\n",
    " 79.424999999999997,\n",
    " 78.242000000000004,\n",
    " 76.384,\n",
    " 73.747,\n",
    " 74.248999999999995,\n",
    " 73.421999999999997,\n",
    " 62.698,\n",
    " 42.383999999999993,\n",
    " 43.487000000000002]"
   ]
  },
  {
   "cell_type": "code",
   "execution_count": null,
   "metadata": {
    "collapsed": true
   },
   "outputs": [],
   "source": [
    "# Expectativa de vida em 1950 para vários países\n",
    "life_exp1950 = [28.8,\n",
    " 55.23,\n",
    " 43.08,\n",
    " 30.02,\n",
    " 62.48,\n",
    " 69.12,\n",
    " 66.8,\n",
    " 50.94,\n",
    " 37.48,\n",
    " 68.0,\n",
    " 38.22,\n",
    " 40.41,\n",
    " 53.82,\n",
    " 47.62,\n",
    " 50.92,\n",
    " 59.6,\n",
    " 31.98,\n",
    " 39.03,\n",
    " 39.42,\n",
    " 38.52,\n",
    " 68.75,\n",
    " 35.46,\n",
    " 38.09,\n",
    " 54.74,\n",
    " 44.0,\n",
    " 50.64,\n",
    " 40.72,\n",
    " 39.14,\n",
    " 42.11,\n",
    " 57.21,\n",
    " 40.48,\n",
    " 61.21,\n",
    " 59.42,\n",
    " 66.87,\n",
    " 70.78,\n",
    " 34.81,\n",
    " 45.93,\n",
    " 48.36,\n",
    " 41.89,\n",
    " 45.26,\n",
    " 34.48,\n",
    " 35.93,\n",
    " 34.08,\n",
    " 66.55,\n",
    " 67.41,\n",
    " 37.0,\n",
    " 30.0,\n",
    " 67.5,\n",
    " 43.15,\n",
    " 65.86,\n",
    " 42.02,\n",
    " 33.61,\n",
    " 32.5,\n",
    " 37.58,\n",
    " 41.91,\n",
    " 60.96,\n",
    " 64.03,\n",
    " 72.49,\n",
    " 37.37,\n",
    " 37.47,\n",
    " 44.87,\n",
    " 45.32,\n",
    " 66.91,\n",
    " 65.39,\n",
    " 65.94,\n",
    " 58.53,\n",
    " 63.03,\n",
    " 43.16,\n",
    " 42.27,\n",
    " 50.06,\n",
    " 47.45,\n",
    " 55.56,\n",
    " 55.93,\n",
    " 42.14,\n",
    " 38.48,\n",
    " 42.72,\n",
    " 36.68,\n",
    " 36.26,\n",
    " 48.46,\n",
    " 33.68,\n",
    " 40.54,\n",
    " 50.99,\n",
    " 50.79,\n",
    " 42.24,\n",
    " 59.16,\n",
    " 42.87,\n",
    " 31.29,\n",
    " 36.32,\n",
    " 41.72,\n",
    " 36.16,\n",
    " 72.13,\n",
    " 69.39,\n",
    " 42.31,\n",
    " 37.44,\n",
    " 36.32,\n",
    " 72.67,\n",
    " 37.58,\n",
    " 43.44,\n",
    " 55.19,\n",
    " 62.65,\n",
    " 43.9,\n",
    " 47.75,\n",
    " 61.31,\n",
    " 59.82,\n",
    " 64.28,\n",
    " 52.72,\n",
    " 61.05,\n",
    " 40.0,\n",
    " 46.47,\n",
    " 39.88,\n",
    " 37.28,\n",
    " 58.0,\n",
    " 30.33,\n",
    " 60.4,\n",
    " 64.36,\n",
    " 65.57,\n",
    " 32.98,\n",
    " 45.01,\n",
    " 64.94,\n",
    " 57.59,\n",
    " 38.64,\n",
    " 41.41,\n",
    " 71.86,\n",
    " 69.62,\n",
    " 45.88,\n",
    " 58.5,\n",
    " 41.22,\n",
    " 50.85,\n",
    " 38.6,\n",
    " 59.1,\n",
    " 44.6,\n",
    " 43.58,\n",
    " 39.98,\n",
    " 69.18,\n",
    " 68.44,\n",
    " 66.07,\n",
    " 55.09,\n",
    " 40.41,\n",
    " 43.16,\n",
    " 32.55,\n",
    " 42.04,\n",
    " 48.45]"
   ]
  },
  {
   "cell_type": "code",
   "execution_count": null,
   "metadata": {
    "collapsed": true
   },
   "outputs": [],
   "source": [
    "# PIB per capta em 2007 para vários países\n",
    "gdp_cap = [974.58033839999996,\n",
    " 5937.0295259999984,\n",
    " 6223.3674650000003,\n",
    " 4797.2312670000001,\n",
    " 12779.379639999999,\n",
    " 34435.367439999995,\n",
    " 36126.492700000003,\n",
    " 29796.048340000001,\n",
    " 1391.253792,\n",
    " 33692.605080000001,\n",
    " 1441.2848730000001,\n",
    " 3822.137084,\n",
    " 7446.2988029999997,\n",
    " 12569.851769999999,\n",
    " 9065.8008250000003,\n",
    " 10680.792820000001,\n",
    " 1217.0329939999999,\n",
    " 430.07069159999998,\n",
    " 1713.7786860000001,\n",
    " 2042.0952400000001,\n",
    " 36319.235009999997,\n",
    " 706.01653699999997,\n",
    " 1704.0637240000001,\n",
    " 13171.638849999999,\n",
    " 4959.1148540000004,\n",
    " 7006.5804189999999,\n",
    " 986.14787920000003,\n",
    " 277.55185870000003,\n",
    " 3632.5577979999998,\n",
    " 9645.06142,\n",
    " 1544.7501119999999,\n",
    " 14619.222719999998,\n",
    " 8948.1029230000004,\n",
    " 22833.308509999999,\n",
    " 35278.418740000001,\n",
    " 2082.4815670000007,\n",
    " 6025.3747520000015,\n",
    " 6873.2623260000009,\n",
    " 5581.1809979999998,\n",
    " 5728.3535140000004,\n",
    " 12154.089749999999,\n",
    " 641.36952360000021,\n",
    " 690.80557590000001,\n",
    " 33207.0844,\n",
    " 30470.0167,\n",
    " 13206.48452,\n",
    " 752.74972649999995,\n",
    " 32170.37442,\n",
    " 1327.6089099999999,\n",
    " 27538.41188,\n",
    " 5186.0500030000003,\n",
    " 942.6542111,\n",
    " 579.23174299999982,\n",
    " 1201.637154,\n",
    " 3548.3308460000007,\n",
    " 39724.978669999997,\n",
    " 18008.944439999999,\n",
    " 36180.789190000003,\n",
    " 2452.210407,\n",
    " 3540.6515639999998,\n",
    " 11605.71449,\n",
    " 4471.0619059999999,\n",
    " 40675.996350000001,\n",
    " 25523.277099999999,\n",
    " 28569.719700000001,\n",
    " 7320.8802620000015,\n",
    " 31656.068060000001,\n",
    " 4519.4611709999999,\n",
    " 1463.249282,\n",
    " 1593.06548,\n",
    " 23348.139730000006,\n",
    " 47306.989780000004,\n",
    " 10461.05868,\n",
    " 1569.3314419999999,\n",
    " 414.5073415,\n",
    " 12057.49928,\n",
    " 1044.7701259999999,\n",
    " 759.34991009999999,\n",
    " 12451.6558,\n",
    " 1042.581557,\n",
    " 1803.151496,\n",
    " 10956.991120000001,\n",
    " 11977.57496,\n",
    " 3095.7722710000007,\n",
    " 9253.896111,\n",
    " 3820.1752299999998,\n",
    " 823.68562050000003,\n",
    " 944.0,\n",
    " 4811.0604290000001,\n",
    " 1091.359778,\n",
    " 36797.933319999996,\n",
    " 25185.009109999999,\n",
    " 2749.3209649999999,\n",
    " 619.67689239999982,\n",
    " 2013.9773049999999,\n",
    " 49357.190170000002,\n",
    " 22316.192869999999,\n",
    " 2605.94758,\n",
    " 9809.1856360000002,\n",
    " 4172.8384640000004,\n",
    " 7408.9055609999996,\n",
    " 3190.4810160000002,\n",
    " 15389.924680000002,\n",
    " 20509.64777,\n",
    " 19328.709009999999,\n",
    " 7670.122558,\n",
    " 10808.47561,\n",
    " 863.08846390000019,\n",
    " 1598.4350890000001,\n",
    " 21654.83194,\n",
    " 1712.4721360000001,\n",
    " 9786.5347139999994,\n",
    " 862.54075610000018,\n",
    " 47143.179640000002,\n",
    " 18678.314350000001,\n",
    " 25768.257590000001,\n",
    " 926.14106830000003,\n",
    " 9269.6578079999999,\n",
    " 28821.063699999999,\n",
    " 3970.0954069999998,\n",
    " 2602.3949950000001,\n",
    " 4513.4806429999999,\n",
    " 33859.748350000002,\n",
    " 37506.419070000004,\n",
    " 4184.5480889999999,\n",
    " 28718.276839999999,\n",
    " 1107.482182,\n",
    " 7458.3963269999977,\n",
    " 882.9699437999999,\n",
    " 18008.509239999999,\n",
    " 7092.9230250000001,\n",
    " 8458.2763840000007,\n",
    " 1056.3801209999999,\n",
    " 33203.261279999999,\n",
    " 42951.65309,\n",
    " 10611.46299,\n",
    " 11415.805689999999,\n",
    " 2441.5764039999999,\n",
    " 3025.3497980000002,\n",
    " 2280.769906,\n",
    " 1271.211593,\n",
    " 469.70929810000007]"
   ]
  },
  {
   "cell_type": "code",
   "execution_count": null,
   "metadata": {
    "collapsed": true
   },
   "outputs": [],
   "source": [
    "# População em 2007 de diversos países\n",
    "\n",
    "pop = [31.889923,\n",
    " 3.6005229999999999,\n",
    " 33.333216,\n",
    " 12.420476000000001,\n",
    " 40.301926999999999,\n",
    " 20.434176000000001,\n",
    " 8.199783,\n",
    " 0.70857300000000001,\n",
    " 150.448339,\n",
    " 10.392226000000001,\n",
    " 8.0783140000000007,\n",
    " 9.1191519999999997,\n",
    " 4.5521979999999997,\n",
    " 1.6391309999999999,\n",
    " 190.01064700000001,\n",
    " 7.3228580000000001,\n",
    " 14.326203,\n",
    " 8.3905049999999992,\n",
    " 14.131857999999999,\n",
    " 17.696293000000001,\n",
    " 33.390141,\n",
    " 4.3690379999999998,\n",
    " 10.238807,\n",
    " 16.284741,\n",
    " 1318.683096,\n",
    " 44.227550000000001,\n",
    " 0.71096000000000004,\n",
    " 64.606758999999997,\n",
    " 3.8006099999999998,\n",
    " 4.1338840000000001,\n",
    " 18.013408999999999,\n",
    " 4.4933120000000004,\n",
    " 11.416987000000001,\n",
    " 10.228744000000001,\n",
    " 5.4681199999999999,\n",
    " 0.49637399999999998,\n",
    " 9.3196220000000007,\n",
    " 13.75568,\n",
    " 80.264543000000003,\n",
    " 6.9396880000000003,\n",
    " 0.55120100000000005,\n",
    " 4.9065849999999998,\n",
    " 76.511887000000002,\n",
    " 5.2384599999999999,\n",
    " 61.083916000000002,\n",
    " 1.4548669999999999,\n",
    " 1.6883589999999999,\n",
    " 82.400996000000006,\n",
    " 22.873338,\n",
    " 10.706289999999999,\n",
    " 12.572927999999999,\n",
    " 9.9478139999999993,\n",
    " 1.4720409999999999,\n",
    " 8.5028140000000008,\n",
    " 7.4837629999999997,\n",
    " 6.9804120000000003,\n",
    " 9.9561080000000004,\n",
    " 0.301931,\n",
    " 1110.3963309999999,\n",
    " 223.547,\n",
    " 69.453569999999999,\n",
    " 27.499638000000001,\n",
    " 4.1090859999999996,\n",
    " 6.426679,\n",
    " 58.147733000000002,\n",
    " 2.780132,\n",
    " 127.467972,\n",
    " 6.0531930000000003,\n",
    " 35.610177,\n",
    " 23.301725000000001,\n",
    " 49.044789999999999,\n",
    " 2.5055589999999999,\n",
    " 3.921278,\n",
    " 2.0126490000000001,\n",
    " 3.1939419999999998,\n",
    " 6.0369140000000003,\n",
    " 19.167653999999999,\n",
    " 13.327078999999999,\n",
    " 24.821286000000001,\n",
    " 12.031795000000001,\n",
    " 3.2700650000000002,\n",
    " 1.250882,\n",
    " 108.700891,\n",
    " 2.8741270000000001,\n",
    " 0.68473600000000001,\n",
    " 33.757174999999997,\n",
    " 19.951656,\n",
    " 47.761980000000001,\n",
    " 2.0550799999999998,\n",
    " 28.901789999999998,\n",
    " 16.570613000000002,\n",
    " 4.1157709999999996,\n",
    " 5.6753559999999998,\n",
    " 12.894864999999999,\n",
    " 135.03116399999999,\n",
    " 4.6279260000000004,\n",
    " 3.2048969999999999,\n",
    " 169.27061699999999,\n",
    " 3.2421730000000002,\n",
    " 6.6671469999999999,\n",
    " 28.674757,\n",
    " 91.077286999999998,\n",
    " 38.518241000000003,\n",
    " 10.642836000000001,\n",
    " 3.942491,\n",
    " 0.79809399999999997,\n",
    " 22.276056000000001,\n",
    " 8.8605879999999999,\n",
    " 0.19957900000000001,\n",
    " 27.601037999999999,\n",
    " 12.267493,\n",
    " 10.150264999999999,\n",
    " 6.1445619999999996,\n",
    " 4.5530090000000003,\n",
    " 5.4475020000000001,\n",
    " 2.0092449999999999,\n",
    " 9.1187729999999991,\n",
    " 43.997827999999998,\n",
    " 40.448191000000001,\n",
    " 20.378239000000001,\n",
    " 42.292929000000001,\n",
    " 1.1330659999999999,\n",
    " 9.0310880000000004,\n",
    " 7.5546610000000003,\n",
    " 19.314747000000001,\n",
    " 23.174294,\n",
    " 38.13964,\n",
    " 65.068149000000005,\n",
    " 5.7015789999999997,\n",
    " 1.056608,\n",
    " 10.276158000000001,\n",
    " 71.158647000000002,\n",
    " 29.170397999999999,\n",
    " 60.776237999999999,\n",
    " 301.13994700000001,\n",
    " 3.4474960000000001,\n",
    " 26.084662000000002,\n",
    " 85.262355999999997,\n",
    " 4.018332,\n",
    " 22.211742999999998,\n",
    " 11.746034999999999,\n",
    " 12.311143]"
   ]
  },
  {
   "cell_type": "markdown",
   "metadata": {},
   "source": [
    "## Histogramas:"
   ]
  },
  {
   "cell_type": "code",
   "execution_count": null,
   "metadata": {
    "collapsed": false
   },
   "outputs": [],
   "source": [
    "# Histograma da variável life_exp\n",
    "plt.hist(life_exp)\n",
    "\n",
    "# Mostrar histograma\n",
    "plt.show()"
   ]
  },
  {
   "cell_type": "markdown",
   "metadata": {},
   "source": [
    "No exemplo anterior, não houve especificação o número de caixas (bins). Por padrão, o Python define o número de caixas para 10. O número de caixas é bastante importante. Poucos compartimentos simplificarão a realidade e não mostrarão os detalhes. Muitas caixas superam a realidade e não mostrarão a imagem adequadamente.\n",
    "\n",
    "Para controlar o número de compartimentos para dividir seus dados, você pode definir o argumento das caixas (bins)."
   ]
  },
  {
   "cell_type": "code",
   "execution_count": null,
   "metadata": {
    "collapsed": false
   },
   "outputs": [],
   "source": [
    "# Histograma de life_exp, com 15 bins (raias, caixas)\n",
    "\n",
    "plt.hist(life_exp, bins=15)\n",
    "\n",
    "# Mostra e limpa o plot\n",
    "plt.show()\n",
    "plt.clf()\n",
    "\n",
    "# Histograma do life_exp1950, com 15 bins (raias)\n",
    "plt.hist(life_exp1950, bins=15)\n",
    "\n",
    "# Mostra e limpa o plot\n",
    "plt.show()\n",
    "plt.clf()"
   ]
  },
  {
   "cell_type": "code",
   "execution_count": null,
   "metadata": {
    "collapsed": false
   },
   "outputs": [],
   "source": [
    "# Histograma com 5 bins\n",
    "plt.hist(life_exp,bins=5)\n",
    "\n",
    "# Mostrar e limpar o plot\n",
    "plt.show()\n",
    "plt.clf()\n",
    "\n",
    "# Histograma com 20 bins\n",
    "\n",
    "plt.hist(life_exp,bins=20)\n",
    "\n",
    "# Mostrar e limpar o plot\n",
    "plt.show()\n",
    "plt.clf()"
   ]
  },
  {
   "cell_type": "code",
   "execution_count": null,
   "metadata": {
    "collapsed": false
   },
   "outputs": [],
   "source": [
    "# Exemplo de histograma com uso de parâmetros defaults\n",
    "\n",
    "import numpy as np\n",
    "import matplotlib.pyplot as plt\n",
    "\n",
    "plt.style.use('seaborn-white')\n",
    "data = np.random.randn(1000)\n",
    "\n",
    "plt.hist(data);"
   ]
  },
  {
   "cell_type": "code",
   "execution_count": null,
   "metadata": {
    "collapsed": false
   },
   "outputs": [],
   "source": [
    "# Exemplo de histograma com configuração de parâmetros\n",
    "\n",
    "plt.hist(data, bins=30, normed=True, alpha=0.5,\n",
    "histtype='stepfilled', color='steelblue',\n",
    "edgecolor='none');"
   ]
  },
  {
   "cell_type": "code",
   "execution_count": null,
   "metadata": {
    "collapsed": true
   },
   "outputs": [],
   "source": []
  },
  {
   "cell_type": "code",
   "execution_count": null,
   "metadata": {
    "collapsed": false
   },
   "outputs": [],
   "source": [
    "# Exemplo de vários histogramas num mesmo gráfico\n",
    "\n",
    "x1 = np.random.normal(0, 0.8, 1000)\n",
    "x2 = np.random.normal(-2, 1, 1000)\n",
    "x3 = np.random.normal(3, 2, 1000)\n",
    "histograma_parametros = dict(histtype='stepfilled', alpha=0.3, normed=True, bins=40)\n",
    "\n",
    "plt.hist(x1, **histograma_parametros)\n",
    "plt.hist(x2, **histograma_parametros)\n",
    "plt.hist(x3, **histograma_parametros);\n",
    "\n",
    "#plt.hist(x1)\n",
    "#plt.hist(x2)\n",
    "#plt.hist(x3)\n",
    "\n",
    "#plt.hist(x1,x2,x3)"
   ]
  },
  {
   "cell_type": "markdown",
   "metadata": {},
   "source": [
    "Em muitos casos é importante mostrar histogramas e gráficos superpostos num mesmo plot.\n",
    "\n",
    "A seguir é apresentado uma exemplo de uso de histograma e gfáfico nummemso plot.\n"
   ]
  },
  {
   "cell_type": "code",
   "execution_count": null,
   "metadata": {
    "collapsed": false
   },
   "outputs": [],
   "source": [
    "# Exemplo: Histograma com plot\n",
    "\n",
    "import numpy as np\n",
    "import matplotlib.mlab as mlab\n",
    "import matplotlib.pyplot as plt\n",
    "\n",
    "# criação dos dados\n",
    "mu , sigma = 100 , 15\n",
    "x = mu + sigma * np.random.randn(10000)\n",
    "\n",
    "# histograma dos dados\n",
    "n, bins , patches = plt . hist (x, 50, normed =1,facecolor ='green', alpha =0.75)\n",
    "\n",
    "# Labels dos eixos\n",
    "plt. xlabel ('QI ')\n",
    "plt. ylabel (' Probabilidade ')\n",
    "\n",
    "#Pode-se utilizar um string em código Latex para labels e titles :\n",
    "plt. title (r'$\\ mathrm { Histograma \\ de\\ IQ :}\\ \\mu =100 ,\\ \\ sigma =15$')\n",
    "plt. axis ([40 , 160 , 0, 0.03])\n",
    "plt. grid ( True )\n",
    "\n",
    "# Curva contínua no estilo de linhas\n",
    "y = mlab.normpdf(bins , mu , sigma )\n",
    "l = plt.plot(bins , y, 'r--', linewidth =1)\n",
    "\n",
    "# salvar a figura em arquivo\n",
    "plt.savefig(\"histograma_com_plot.pdf\")\n",
    "# Mostrar a figura\n",
    "plt.show()"
   ]
  },
  {
   "cell_type": "markdown",
   "metadata": {},
   "source": [
    "## Gráficos em pontos\n",
    "\n",
    "Em muitos casos os pontos, par(x,y), não estão dispostos em uma sequência. Então, não faz sentido utilizar o plt.plot().\n",
    " - O método plt.plot() assumi que os ponto possui sequência lógica\n",
    "\n",
    "Para os casos onde os pontos não seguem sequências (pontos \"soltos\"), devemos utilizar o método plt.scatter(x,y) ao invés do plt.plot(x,y), que corresponde a gráficos de dispoersão.\n",
    "\n",
    "- import matplotlib.pyplot as plt\n",
    "- plt.scatter(x,y)\n",
    "- plt.show()"
   ]
  },
  {
   "cell_type": "code",
   "execution_count": null,
   "metadata": {
    "collapsed": false
   },
   "outputs": [],
   "source": [
    "# Exemplo - Gráfico com SCATTER\n",
    "# O gráfico corresponde a ponto sem lógica de sequência\n",
    "# Neste caso, poderíamos utilizar o plt.plot()\n",
    "\n",
    "import numpy as np\n",
    "x = np.linspace(0, 10, 100)\n",
    "y = np.sin(x)\n",
    "plt.scatter(x, y, marker='o');"
   ]
  },
  {
   "cell_type": "code",
   "execution_count": null,
   "metadata": {
    "collapsed": false
   },
   "outputs": [],
   "source": [
    "# Nesse gráfico teria sentido se utilizar plt.plot() ao invés de plt.scatter()\n",
    "\n",
    "#import matplotlib.pyplot as plt\n",
    "import matplotlib.pylab as plt\n",
    "\n",
    "plt.scatter(gdp_cap, life_exp)\n",
    "\n",
    "# Configurar o x-axis na escala logarítmica\n",
    "plt.xscale('log')\n",
    "\n",
    "# Mostrar plot\n",
    "plt.show()"
   ]
  },
  {
   "cell_type": "markdown",
   "metadata": {},
   "source": [
    "No exercício anterior, você viu que o maior PIB geralmente corresponde a uma maior expectativa de vida. Em outras palavras, há uma correlação positiva.\n",
    "\n",
    "Você acha que existe uma relação entre a população e a expectativa de vida de um país? \n",
    "- A lista life_exp já está disponível.\n",
    "- A lista pop já está disponível, que corresponde às populações dos países em 2007. As populações estão em milhões de pessoas."
   ]
  },
  {
   "cell_type": "code",
   "execution_count": null,
   "metadata": {
    "collapsed": false
   },
   "outputs": [],
   "source": [
    "# Import package Matplot\n",
    "import matplotlib.pyplot as plt\n",
    "\n",
    "# Build Scatter plot\n",
    "plt.scatter(pop, life_exp)\n",
    "\n",
    "# Show plot\n",
    "plt.show()"
   ]
  },
  {
   "cell_type": "markdown",
   "metadata": {},
   "source": [
    "Adicionar títulos e labels em SCATTER é realizado de modo similar ao PLOT"
   ]
  },
  {
   "cell_type": "code",
   "execution_count": null,
   "metadata": {
    "collapsed": false
   },
   "outputs": [],
   "source": [
    "# Gráfico do tipo scatter, em escala logarítmica\n",
    "# com adição de título e labels\n",
    "\n",
    "plt.scatter(gdp_cap, life_exp)\n",
    "plt.xscale('log') \n",
    "\n",
    "# Título e labels\n",
    "xlab = 'PIB per Capita [em USD]'\n",
    "ylab = 'Expectativa de Vida [em anos]'\n",
    "title = 'Desenvolvimento Global em in 2007'\n",
    "\n",
    "# Adicionar labels dos eixos\n",
    "plt.xlabel(xlab)\n",
    "plt.ylabel(ylab)\n",
    "\n",
    "# Adicionar título\n",
    "plt.title(title)\n",
    "\n",
    "# Mostrar plot \n",
    "plt.show()"
   ]
  },
  {
   "cell_type": "markdown",
   "metadata": {},
   "source": [
    "Como no PLOT, aqui também é possível redefinir os labels dos eixos x e y, via os métodos plt.xticks(.,.) e plt.yticks(.,.), respectivamente.\n",
    "- plt.yticks([0,1,2], [\"um\",\"dois\",\"tres\"]), substitui os nnúmeros 0, 1 e 2 pelas strings \"um\", \"dois\" e \"tres\", respectivamente.\n"
   ]
  },
  {
   "cell_type": "code",
   "execution_count": null,
   "metadata": {
    "collapsed": false
   },
   "outputs": [],
   "source": [
    "# Exemplo de uso de Scatter plot\n",
    "# Redifinir o label do eixo x\n",
    "\n",
    "\n",
    "plt.scatter(gdp_cap, life_exp)\n",
    "\n",
    "# Customizações\n",
    "plt.xscale('log') \n",
    "plt.xlabel('PIB per Capita [em USD]')\n",
    "plt.ylabel('Expectativa de Vida [em anos]')\n",
    "plt.title('Desenvolvimento Global em 2007')\n",
    "\n",
    "# Definições dos tick_val e tick_lab\n",
    "tick_val = [1000,10000,100000]\n",
    "tick_lab = ['1k','10k','100k']\n",
    "\n",
    "# Adaptar os ticks no x-axis\n",
    "plt.xticks(tick_val, tick_lab)\n",
    "\n",
    "# Mostrar o plot\n",
    "plt.show()"
   ]
  },
  {
   "cell_type": "markdown",
   "metadata": {},
   "source": [
    "Até aqui, o gráfico de dispersão (scatter) é apenas uma nuvem de pontos azuis, indistinguíveis uns dos outros. \n",
    "\n",
    "Para melhorar a visualização dos dados bom se o tamanho dos pontos corresponde à população, por exemplo.\n",
    "\n",
    "Para realizar isso, precisamos passa via variável 's' no método plt.scatter(). Essa variável é uma contendo os tamanhos de cada ponto."
   ]
  },
  {
   "cell_type": "code",
   "execution_count": null,
   "metadata": {
    "collapsed": false
   },
   "outputs": [],
   "source": [
    "# Exemplo definindo o tamanho dos pontos no método plt.scatter()\n",
    "\n",
    "# Import numpy as np\n",
    "import numpy as np\n",
    "\n",
    "# Transformar a lista em Array: np_pop\n",
    "np_pop = np.array(pop)\n",
    "\n",
    "# Duplicar o valor de  np_pop\n",
    "np_pop = np_pop * 2\n",
    "\n",
    "# Atualização: configurar a variável s para np_pop\n",
    "plt.scatter(gdp_cap, life_exp, s = np_pop)\n",
    "\n",
    "# Customizações\n",
    "plt.xscale('log') \n",
    "plt.xlabel('PIB per Capita [em USD]')\n",
    "plt.ylabel('Expectativa de Vida [em anos]')\n",
    "plt.title('Desenvolvimento Global em 2007')\n",
    "plt.xticks([1000, 10000, 100000],['1k', '10k', '100k'])\n",
    "\n",
    "# Mostar o plot\n",
    "plt.show()"
   ]
  },
  {
   "cell_type": "markdown",
   "metadata": {},
   "source": [
    "### Cor\n",
    "Agora vamos associar cores aos países. Para isto vamos utilizar o tipo 'dictionary'.\n"
   ]
  },
  {
   "cell_type": "markdown",
   "metadata": {},
   "source": [
    "dict = {\n",
    "    'Asia':'red',\n",
    "    \n",
    "    'Europe':'green',\n",
    "    \n",
    "    'Africa':'blue',\n",
    "    \n",
    "    'Americas':'yellow',\n",
    "    \n",
    "    'Oceania':'black'\n",
    "    \n",
    "}"
   ]
  },
  {
   "cell_type": "code",
   "execution_count": null,
   "metadata": {
    "collapsed": false
   },
   "outputs": [],
   "source": [
    "# Lista das cores associadas aos paises\n",
    "col = ['red',\n",
    " 'green',\n",
    " 'blue',\n",
    " 'blue',\n",
    " 'yellow',\n",
    " 'black',\n",
    " 'green',\n",
    " 'red',\n",
    " 'red',\n",
    " 'green',\n",
    " 'blue',\n",
    " 'yellow',\n",
    " 'green',\n",
    " 'blue',\n",
    " 'yellow',\n",
    " 'green',\n",
    " 'blue',\n",
    " 'blue',\n",
    " 'red',\n",
    " 'blue',\n",
    " 'yellow',\n",
    " 'blue',\n",
    " 'blue',\n",
    " 'yellow',\n",
    " 'red',\n",
    " 'yellow',\n",
    " 'blue',\n",
    " 'blue',\n",
    " 'blue',\n",
    " 'yellow',\n",
    " 'blue',\n",
    " 'green',\n",
    " 'yellow',\n",
    " 'green',\n",
    " 'green',\n",
    " 'blue',\n",
    " 'yellow',\n",
    " 'yellow',\n",
    " 'blue',\n",
    " 'yellow',\n",
    " 'blue',\n",
    " 'blue',\n",
    " 'blue',\n",
    " 'green',\n",
    " 'green',\n",
    " 'blue',\n",
    " 'blue',\n",
    " 'green',\n",
    " 'blue',\n",
    " 'green',\n",
    " 'yellow',\n",
    " 'blue',\n",
    " 'blue',\n",
    " 'yellow',\n",
    " 'yellow',\n",
    " 'red',\n",
    " 'green',\n",
    " 'green',\n",
    " 'red',\n",
    " 'red',\n",
    " 'red',\n",
    " 'red',\n",
    " 'green',\n",
    " 'red',\n",
    " 'green',\n",
    " 'yellow',\n",
    " 'red',\n",
    " 'red',\n",
    " 'blue',\n",
    " 'red',\n",
    " 'red',\n",
    " 'red',\n",
    " 'red',\n",
    " 'blue',\n",
    " 'blue',\n",
    " 'blue',\n",
    " 'blue',\n",
    " 'blue',\n",
    " 'red',\n",
    " 'blue',\n",
    " 'blue',\n",
    " 'blue',\n",
    " 'yellow',\n",
    " 'red',\n",
    " 'green',\n",
    " 'blue',\n",
    " 'blue',\n",
    " 'red',\n",
    " 'blue',\n",
    " 'red',\n",
    " 'green',\n",
    " 'black',\n",
    " 'yellow',\n",
    " 'blue',\n",
    " 'blue',\n",
    " 'green',\n",
    " 'red',\n",
    " 'red',\n",
    " 'yellow',\n",
    " 'yellow',\n",
    " 'yellow',\n",
    " 'red',\n",
    " 'green',\n",
    " 'green',\n",
    " 'yellow',\n",
    " 'blue',\n",
    " 'green',\n",
    " 'blue',\n",
    " 'blue',\n",
    " 'red',\n",
    " 'blue',\n",
    " 'green',\n",
    " 'blue',\n",
    " 'red',\n",
    " 'green',\n",
    " 'green',\n",
    " 'blue',\n",
    " 'blue',\n",
    " 'green',\n",
    " 'red',\n",
    " 'blue',\n",
    " 'blue',\n",
    " 'green',\n",
    " 'green',\n",
    " 'red',\n",
    " 'red',\n",
    " 'blue',\n",
    " 'red',\n",
    " 'blue',\n",
    " 'yellow',\n",
    " 'blue',\n",
    " 'green',\n",
    " 'blue',\n",
    " 'green',\n",
    " 'yellow',\n",
    " 'yellow',\n",
    " 'yellow',\n",
    " 'red',\n",
    " 'red',\n",
    " 'red',\n",
    " 'blue',\n",
    " 'blue']"
   ]
  },
  {
   "cell_type": "code",
   "execution_count": null,
   "metadata": {
    "collapsed": false
   },
   "outputs": [],
   "source": [
    "# Exemplo de configuração de cor e nível de tranparência dos pontos no método plt.scatter()\n",
    "# Especificar c e alpha no método plt.scatter()\n",
    "\n",
    "plt.scatter(x = gdp_cap, y = life_exp, s = np.array(pop) * 2, c =col, alpha = 0.8)\n",
    "\n",
    "# Customizações\n",
    "plt.xscale('log') \n",
    "plt.xlabel('PIB per Capita [em USD]')\n",
    "plt.ylabel('Expectativa de Vida [em anos]')\n",
    "plt.title('Desenvolvimento Global em 2007')\n",
    "plt.xticks([1000,10000,100000], ['1k','10k','100k'])\n",
    "\n",
    "# Mostrar o  plot\n",
    "plt.show()"
   ]
  },
  {
   "cell_type": "markdown",
   "metadata": {},
   "source": [
    "A baixo, há configuração de texto via método plt.text() no gráfico: palavras. No caso, são adicionadas as palavras \"India\" e \"China\" no gráfico."
   ]
  },
  {
   "cell_type": "code",
   "execution_count": null,
   "metadata": {
    "collapsed": false
   },
   "outputs": [],
   "source": [
    "# Scatter plot\n",
    "plt.scatter(x = gdp_cap, y = life_exp, s = np.array(pop) * 2, c = col, alpha = 0.8)\n",
    "\n",
    "# Customizações\n",
    "plt.xscale('log') \n",
    "plt.xlabel('GDP per Capita [in USD]')\n",
    "plt.ylabel('Life Expectancy [in years]')\n",
    "plt.title('World Development in 2007')\n",
    "plt.xticks([1000,10000,100000], ['1k','10k','100k'])\n",
    "\n",
    "# Customizações - texto nas posições relativas à China e Índia\n",
    "plt.text(1550, 71, 'India')\n",
    "plt.text(5700, 80, 'China')\n",
    "\n",
    "# Adicinar grid() no gráfico\n",
    "plt.grid(True)\n",
    "\n",
    "# Mostrar\n",
    "plt.show()"
   ]
  },
  {
   "cell_type": "code",
   "execution_count": null,
   "metadata": {
    "collapsed": false
   },
   "outputs": [],
   "source": [
    "# Exemplo de uso do método scatter()\n",
    "# Com configuração de cor, tamanho e nível de tranparência dos pontos\n",
    "\n",
    "rng = np.random.RandomState(0)\n",
    "x = rng.randn(100)\n",
    "y = rng.randn(100)\n",
    "colors = rng.rand(100)\n",
    "sizes = 1000 * rng.rand(100)\n",
    "plt.scatter(x, y, c=colors, s=sizes, alpha=0.3,\n",
    "cmap='viridis')\n",
    "plt.colorbar(); # Mostrar escala de cores"
   ]
  },
  {
   "cell_type": "code",
   "execution_count": null,
   "metadata": {
    "collapsed": false
   },
   "outputs": [],
   "source": [
    "# Exemplo de uso do método scatter()\n",
    "# Com configuração de cor, tamanho e nível de tranparência dos pontos\n",
    "# Utilizando-se dados do beanchmark IRIS\n",
    "\n",
    "from sklearn.datasets import load_iris\n",
    "\n",
    "iris = load_iris()\n",
    "features = iris.data.T\n",
    "plt.scatter(features[0], features[1], alpha=0.2,\n",
    "s=100*features[3], c=iris.target, cmap='viridis')\n",
    "plt.xlabel(iris.feature_names[0])\n",
    "plt.ylabel(iris.feature_names[1]);"
   ]
  },
  {
   "cell_type": "markdown",
   "metadata": {},
   "source": [
    "## Há muitos outros tipos de gráficos no Matplot\n",
    "Por exemplo:\n",
    "    - barras\n",
    "    - errorbar\n",
    "    - boxplot    "
   ]
  },
  {
   "cell_type": "code",
   "execution_count": null,
   "metadata": {
    "collapsed": false
   },
   "outputs": [],
   "source": [
    "# Exemplo de uso de gráficos de errorbar\n",
    "\n",
    "import matplotlib.pyplot as plt\n",
    "plt.style.use('seaborn-whitegrid')\n",
    "\n",
    "import numpy as np\n",
    "\n",
    "x = np.linspace(0, 10, 50)\n",
    "dy = 0.8\n",
    "y = np.sin(x) + dy * np.random.randn(50)\n",
    "plt.errorbar(x, y, yerr=dy, fmt='.k');"
   ]
  },
  {
   "cell_type": "code",
   "execution_count": null,
   "metadata": {
    "collapsed": false
   },
   "outputs": [],
   "source": [
    "# Exemplo de uso de gráficos de errorbar\n",
    "# com barras em cinza claro\n",
    "\n",
    "plt.errorbar(x, y, yerr=dy, fmt='o', color='black',\n",
    "ecolor='lightgray', elinewidth=3, capsize=0);"
   ]
  },
  {
   "cell_type": "markdown",
   "metadata": {},
   "source": [
    "## Gráficos Tridimencionais\n"
   ]
  },
  {
   "cell_type": "code",
   "execution_count": null,
   "metadata": {
    "collapsed": true
   },
   "outputs": [],
   "source": []
  }
 ],
 "metadata": {
  "kernelspec": {
   "display_name": "Python 3",
   "language": "python",
   "name": "python3"
  },
  "language_info": {
   "codemirror_mode": {
    "name": "ipython",
    "version": 3
   },
   "file_extension": ".py",
   "mimetype": "text/x-python",
   "name": "python",
   "nbconvert_exporter": "python",
   "pygments_lexer": "ipython3",
   "version": "3.6.0"
  }
 },
 "nbformat": 4,
 "nbformat_minor": 2
}
