{
 "cells": [
  {
   "cell_type": "markdown",
   "metadata": {},
   "source": [
    "# Tópicos Especiais em Processamento da Informação: Ciência de Dados\n",
    "\n",
    "\n",
    "## Primeira Avaliação:\n",
    "\n",
    "Prof. Luiz Affonso Guedes Engenharia de Computação - UFRN 2017-2\n",
    "\n",
    "Alunos: \n",
    "    Gabriel Lucas A. M. Signoretti,\n",
    "    Miguel Silva da Rocha Junior"
   ]
  },
  {
   "cell_type": "markdown",
   "metadata": {},
   "source": [
    "Objetivo:\n",
    "\n",
    "    Análise da base de dados sobre aspectos socio-cuturais de brasileiros adultos (acima de 18 anos). Base de dados da Pesquisa Nacional de Saúde 2013 - IBGE\n"
   ]
  },
  {
   "cell_type": "markdown",
   "metadata": {},
   "source": [
    "# Instruções\n",
    "- Carregue a base de dados: base_pesquisa_nacional_de_saude_2013_IBGE.csv\n",
    "- Campos (colunas da base de dados)\n",
    "    - saude_autorreferida (muito_ruim=1, ruim=2, boa=3, muito_boa=4, excelente=5)\n",
    "    - sexo (masculino=1, feminino=2)\n",
    "    - idade (idade em anos)\n",
    "    - cor_raca (branca=1, preta=2, amarela=3, parda=4, indígena=5)\n",
    "    - e_civil (casado=1, separado_ou_desquitado_judicialmente=2, divorciado=3, viúvo=4, solteiro=5) \n",
    "    - nivel_instrucao (pré_escola=1, alfabetização=2, ensino_fundamental=3 e 4, ensino_médio = 5 e 6, graduação=7)\n",
    "    - sabe_ler_escrever (sim=1, não=2)\n",
    "    - dirige_carro (sim=1, não=2)\n",
    "    - dirige_motocicleta (sim=1, não=2)\n",
    "    - freq_anda_motocicleta (sempre=1, quase_sempre=2, às_vezes=3, raramente=4, nunca=5)\n",
    "    - aciden_lesao_12meses (sim=1, não=2) - Acidente de trânsito nos últimos 12 meses com lesão.\n",
    "    - idade_inicio_alcool - idade que começou inferir bebida alcólica. A pergunta não foi feita para todos os participantes da pesquisa. Ainda há o caso de alguns entrevistados que não emgerem bebidas alcólicas, ou não sabiam ou não responderam. Nesses casos, não há valor no campo correspondente."
   ]
  },
  {
   "cell_type": "code",
   "execution_count": 2,
   "metadata": {
    "collapsed": false
   },
   "outputs": [
    {
     "name": "stdout",
     "output_type": "stream",
     "text": [
      "carregar a base de dados - base_pesquisa_nacional_de_saude_2013_IBGE.csv\n"
     ]
    }
   ],
   "source": [
    "# importar pandas\n",
    "import pandas as pd\n",
    "import seaborn as sns\n",
    "import numpy as np\n",
    "import matplotlib.pyplot as plt\n",
    "%matplotlib inline\n",
    "print(\"carregar a base de dados - base_pesquisa_nacional_de_saude_2013_IBGE.csv\")"
   ]
  },
  {
   "cell_type": "code",
   "execution_count": 3,
   "metadata": {
    "collapsed": false
   },
   "outputs": [
    {
     "data": {
      "text/html": [
       "<div>\n",
       "<style>\n",
       "    .dataframe thead tr:only-child th {\n",
       "        text-align: right;\n",
       "    }\n",
       "\n",
       "    .dataframe thead th {\n",
       "        text-align: left;\n",
       "    }\n",
       "\n",
       "    .dataframe tbody tr th {\n",
       "        vertical-align: top;\n",
       "    }\n",
       "</style>\n",
       "<table border=\"1\" class=\"dataframe\">\n",
       "  <thead>\n",
       "    <tr style=\"text-align: right;\">\n",
       "      <th></th>\n",
       "      <th>UF</th>\n",
       "      <th>saude_autorreferida</th>\n",
       "      <th>sexo</th>\n",
       "      <th>idade</th>\n",
       "      <th>cor_raca</th>\n",
       "      <th>e_civil</th>\n",
       "      <th>nivel_instrucao</th>\n",
       "      <th>sabe_ler_escrever</th>\n",
       "      <th>dirige_carro</th>\n",
       "      <th>dirige_motocicleta</th>\n",
       "      <th>freq_anda_motocicleta</th>\n",
       "      <th>aciden_lesao_12meses</th>\n",
       "      <th>idade_inicio_alcool</th>\n",
       "    </tr>\n",
       "  </thead>\n",
       "  <tbody>\n",
       "    <tr>\n",
       "      <th>0</th>\n",
       "      <td>11</td>\n",
       "      <td>3</td>\n",
       "      <td>1</td>\n",
       "      <td>35</td>\n",
       "      <td>2</td>\n",
       "      <td>1</td>\n",
       "      <td>2</td>\n",
       "      <td>2</td>\n",
       "      <td>2</td>\n",
       "      <td>2</td>\n",
       "      <td>5</td>\n",
       "      <td>2</td>\n",
       "      <td>NaN</td>\n",
       "    </tr>\n",
       "    <tr>\n",
       "      <th>1</th>\n",
       "      <td>11</td>\n",
       "      <td>2</td>\n",
       "      <td>1</td>\n",
       "      <td>42</td>\n",
       "      <td>4</td>\n",
       "      <td>1</td>\n",
       "      <td>2</td>\n",
       "      <td>1</td>\n",
       "      <td>1</td>\n",
       "      <td>1</td>\n",
       "      <td>2</td>\n",
       "      <td>2</td>\n",
       "      <td>22.0</td>\n",
       "    </tr>\n",
       "    <tr>\n",
       "      <th>2</th>\n",
       "      <td>11</td>\n",
       "      <td>2</td>\n",
       "      <td>2</td>\n",
       "      <td>32</td>\n",
       "      <td>2</td>\n",
       "      <td>5</td>\n",
       "      <td>5</td>\n",
       "      <td>1</td>\n",
       "      <td>2</td>\n",
       "      <td>2</td>\n",
       "      <td>1</td>\n",
       "      <td>2</td>\n",
       "      <td>NaN</td>\n",
       "    </tr>\n",
       "    <tr>\n",
       "      <th>3</th>\n",
       "      <td>11</td>\n",
       "      <td>2</td>\n",
       "      <td>2</td>\n",
       "      <td>27</td>\n",
       "      <td>1</td>\n",
       "      <td>5</td>\n",
       "      <td>3</td>\n",
       "      <td>1</td>\n",
       "      <td>1</td>\n",
       "      <td>1</td>\n",
       "      <td>5</td>\n",
       "      <td>2</td>\n",
       "      <td>NaN</td>\n",
       "    </tr>\n",
       "    <tr>\n",
       "      <th>4</th>\n",
       "      <td>11</td>\n",
       "      <td>3</td>\n",
       "      <td>1</td>\n",
       "      <td>53</td>\n",
       "      <td>2</td>\n",
       "      <td>1</td>\n",
       "      <td>1</td>\n",
       "      <td>1</td>\n",
       "      <td>2</td>\n",
       "      <td>2</td>\n",
       "      <td>5</td>\n",
       "      <td>2</td>\n",
       "      <td>NaN</td>\n",
       "    </tr>\n",
       "  </tbody>\n",
       "</table>\n",
       "</div>"
      ],
      "text/plain": [
       "   UF  saude_autorreferida  sexo  idade  cor_raca  e_civil  nivel_instrucao  \\\n",
       "0  11                    3     1     35         2        1                2   \n",
       "1  11                    2     1     42         4        1                2   \n",
       "2  11                    2     2     32         2        5                5   \n",
       "3  11                    2     2     27         1        5                3   \n",
       "4  11                    3     1     53         2        1                1   \n",
       "\n",
       "   sabe_ler_escrever  dirige_carro  dirige_motocicleta  freq_anda_motocicleta  \\\n",
       "0                  2             2                   2                      5   \n",
       "1                  1             1                   1                      2   \n",
       "2                  1             2                   2                      1   \n",
       "3                  1             1                   1                      5   \n",
       "4                  1             2                   2                      5   \n",
       "\n",
       "   aciden_lesao_12meses  idade_inicio_alcool  \n",
       "0                     2                  NaN  \n",
       "1                     2                 22.0  \n",
       "2                     2                  NaN  \n",
       "3                     2                  NaN  \n",
       "4                     2                  NaN  "
      ]
     },
     "execution_count": 3,
     "metadata": {},
     "output_type": "execute_result"
    }
   ],
   "source": [
    "df = pd.read_csv(\"base_pesquisa_nacional_de_saude_2013_IBGE.csv\",sep=';')\n",
    "df.head()"
   ]
  },
  {
   "cell_type": "markdown",
   "metadata": {},
   "source": [
    "Questão 1 - Análise sobre idade e estado civil\n",
    "- Determinar o percentual dos entrevistados por sexo.\n",
    "- Calcular a idade média dos homens\n",
    "- Calcular a idade média das mulheres\n",
    "- Calcular a idade média dos homens casados\n",
    "- Calcular a idade média das mulheres casadas\n",
    "- Plotar o histograma das idades das pessoas do sexo masculino\n",
    "- plotar o histograma das pessoas do sexo feminino\n"
   ]
  },
  {
   "cell_type": "code",
   "execution_count": 4,
   "metadata": {
    "collapsed": false
   },
   "outputs": [
    {
     "name": "stdout",
     "output_type": "stream",
     "text": [
      "Respostas da Questão 01\n",
      "Percentual de homens entrevistados: 43.05504800504967%\n",
      "Percentual de mulheres entrevistadas: 56.94495199495033%\n",
      "Idade média dos homens: 43.008217592592594\n",
      "Idade média das mulheres: 43.5439005892305\n",
      "Idade média dos homens casados: 48.625589836660616\n",
      "Idade média das mulheres casadas: 44.34226868956843\n"
     ]
    },
    {
     "data": {
      "text/plain": [
       "<matplotlib.legend.Legend at 0x114f8d898>"
      ]
     },
     "execution_count": 4,
     "metadata": {},
     "output_type": "execute_result"
    },
    {
     "data": {
      "image/png": "[encoded data removed]",
      "text/plain": [
       "<matplotlib.figure.Figure at 0x114f8d940>"
      ]
     },
     "metadata": {},
     "output_type": "display_data"
    },
    {
     "data": {
      "image/png": "[encoded data removed]",
      "text/plain": [
       "<matplotlib.figure.Figure at 0x11512c908>"
      ]
     },
     "metadata": {},
     "output_type": "display_data"
    }
   ],
   "source": [
    "# Questão 01\n",
    "print(\"Respostas da Questão 01\")\n",
    "\n",
    "menPercentage = (df[df['sexo']==1].sexo.count())/(df.sexo.count())\n",
    "womenPercentage = (df[df['sexo']==2].sexo.count())/(df.sexo.count())\n",
    "\n",
    "print(\"Percentual de homens entrevistados: {}%\".format(menPercentage*100))\n",
    "print(\"Percentual de mulheres entrevistadas: {}%\".format(womenPercentage*100))\n",
    "\n",
    "#Calcular a idade média dos homens\n",
    "manAvgAge = df[df['sexo']==1]['idade'].mean()\n",
    "print(\"Idade média dos homens: {}\".format(manAvgAge))\n",
    "\n",
    "#Calcular a idade média das mulheres\n",
    "womenAvgAge = df[df['sexo']==2]['idade'].mean()\n",
    "print(\"Idade média das mulheres: {}\".format(womenAvgAge))\n",
    "\n",
    "#Calcular a idade média dos homens casados\n",
    "marriedMenAvgAge = df[(df['sexo']==1) & (df['e_civil']==1)]['idade'].mean()\n",
    "print(\"Idade média dos homens casados: {}\".format(marriedMenAvgAge))\n",
    "\n",
    "#Calcular a idade média das mulheres casados\n",
    "marriedWomenAvgAge = df[(df['sexo']==2) & (df['e_civil']==1)]['idade'].mean()\n",
    "print(\"Idade média das mulheres casadas: {}\".format(marriedWomenAvgAge))\n",
    "\n",
    "#Plotar o histograma daidades das pessoas do sexo masculino\n",
    "dfMenAge = df[df['sexo']==1]['idade']\n",
    "axesMen = dfMenAge.plot(kind='hist') # Using built in pandas data visualization\n",
    "axesMen.set_title(\"Idades das pessoas do sexo masculino\")\n",
    "\n",
    "\n",
    "#Plotar o histograma das pessoas do sexo feminino\n",
    "dfWomenHist = df[df['sexo']==2]\n",
    "axesWomen = dfWomenHist.plot(kind='hist')\n",
    "axesWomen.set_title('Histograma das pessoas do sexo feminino')\n",
    "plt.legend(loc='center left', bbox_to_anchor=(1.0, 0.5))"
   ]
  },
  {
   "cell_type": "markdown",
   "metadata": {},
   "source": [
    "Questão 2 - Relação da Saúde Autorreferido em função da idade\n",
    "- calcular a saude_autorreferida média dos homens com idade até 40 anos.\n",
    "- calcular a saude_autorreferida média das mulheres com idade até 40 anos.\n",
    "- calcular a saude_autorreferida média dos homens com idade maior ou igual a 41 anos.\n",
    "- calcular a saude_autorreferida média das mulheres com idade maior ou igual a 41 anos.\n",
    "- plote os gráficos de caixa (boxplot) para essas 04 análises."
   ]
  },
  {
   "cell_type": "code",
   "execution_count": 11,
   "metadata": {
    "collapsed": false
   },
   "outputs": [
    {
     "name": "stdout",
     "output_type": "stream",
     "text": [
      "Respostas da Questão 02\n",
      "saude_autorreferida média dos homens com idade até 40 anos: 2.0345283459055916\n",
      "saude_autorreferida média das mulheres com idade até 40 anos: 2.155020551967117\n",
      "saude_autorreferida média dos homens com idade maior ou igual a 41 anos: 2.4298292626904523\n",
      "saude_autorreferida média das mulheres com idade maior ou igual a 41 anos: 2.5540806862972407\n"
     ]
    }
   ],
   "source": [
    "# Questão 02\n",
    "print(\"Respostas da Questão 02\")\n",
    "\n",
    "saudeMediaHomensAte40 = df[(df['sexo']==1) & (df['idade'] <= 40)]['saude_autorreferida'].mean()\n",
    "saudeMediaMulheresAte40 = df[(df['sexo']==2) & (df['idade'] <= 40)]['saude_autorreferida'].mean()\n",
    "saudeMediaHomensMais41 = df[(df['sexo']==1) & (df['idade'] >= 41)]['saude_autorreferida'].mean()\n",
    "saudeMediaMulheresMais41 = df[(df['sexo']==2) & (df['idade'] >= 41)]['saude_autorreferida'].mean()\n",
    "\n",
    "print(\"saude_autorreferida média dos homens com idade até 40 anos: {}\".format(saudeMediaHomensAte40))\n",
    "print(\"saude_autorreferida média das mulheres com idade até 40 anos: {}\".format(saudeMediaMulheresAte40))\n",
    "print(\"saude_autorreferida média dos homens com idade maior ou igual a 41 anos: {}\".format(saudeMediaHomensMais41))\n",
    "print(\"saude_autorreferida média das mulheres com idade maior ou igual a 41 anos: {}\".format(saudeMediaMulheresMais41))\n",
    "\n",
    "data = {'Homens até 40 anos': saudeMediaHomensAte40,\n",
    "        'Homens com mais de 40 anos': saudeMediaHomensMais41,\n",
    "        'Mulheres até 40 anos': saudeMediaMulheresAte40,\n",
    "        'Mulheres mais de 40 anos': sau}\n",
    "\n",
    "newDf = pd.DataFrame(data=data, index=['Results'], columns=['YougMan','AdultMan','YougWomen','AdultWomen'])\n",
    "ax = newDf.plot(kind='bar')\n",
    "ax.set_ylabel('%')\n",
    "plt.legend(loc='center left', bbox_to_anchor=(1.0, 0.5))"
   ]
  },
  {
   "cell_type": "markdown",
   "metadata": {},
   "source": [
    "Questão 3 - Nível de Instrução em função de idade e sexo\n",
    "- calcular o nível de instrução (nivel_instrucao) médio dos homens com idade até 40 anos.\n",
    "- calcular o nível de instrução (nivel_instrucao) médio das mulheres com idade até 40 anos.\n",
    "- calcular o nível de instrução (nivel_instrucao) médio dos homens com idade maior ou igual a 41 anos.\n",
    "- calcular o nível de instrução (nivel_instrucao) médio das mulheres com idade maior ou igual a 41 anos.\n",
    "- plotar os gráficos de caixa (boxplot) para essas 04 análises."
   ]
  },
  {
   "cell_type": "code",
   "execution_count": 84,
   "metadata": {
    "collapsed": false
   },
   "outputs": [
    {
     "name": "stdout",
     "output_type": "stream",
     "text": [
      "Respostas da Questão 03\n",
      "Nível de instrução médio de homens com até 40 anos: 4.122871140835213\n",
      "Nível de instrução médio de mulheres com até 40 anos: 4.304697592483852\n",
      "Nível de instrução médio de homens acima de 41 anos: 3.1195161166832555\n",
      "Nível de instrução médio de mulheres acima de 41 anos: 3.2287850683978667\n"
     ]
    },
    {
     "data": {
      "image/png": "[encoded data removed]",
      "text/plain": [
       "<matplotlib.figure.Figure at 0x1196a3eb8>"
      ]
     },
     "metadata": {},
     "output_type": "display_data"
    }
   ],
   "source": [
    "# Questão 03\n",
    "print(\"Respostas da Questão 03\")\n",
    "\n",
    "#calcular o nível de instrução (nivel_instrucao) médio dos homens com idade até 40 anos.\n",
    "nivelInstMedioMen = df[(df['sexo']==1) & (df['idade'] <= 40)].nivel_instrucao.mean()\n",
    "print(\"Nível de instrução médio de homens com até 40 anos: {}\".format(nivelInstMedioMen))\n",
    "\n",
    "#calcular o nível de instrução (nivel_instrucao) médio dos homens com idade até 40 anos.\n",
    "nivelInstMedioWomen = df[(df['sexo']==2) & (df['idade'] <= 40)].nivel_instrucao.mean()\n",
    "print(\"Nível de instrução médio de mulheres com até 40 anos: {}\".format(nivelInstMedioWomen))\n",
    "\n",
    "# calcular o nível de instrução (nivel_instrucao) médio dos homens com idade maior ou igual a 41 anos.\n",
    "nivelInstMedioMen2 = df[(df['sexo']==1) & (df['idade'] >= 41)].nivel_instrucao.mean()\n",
    "print(\"Nível de instrução médio de homens acima de 41 anos: {}\".format(nivelInstMedioMen2))\n",
    "\n",
    "# calcular o nível de instrução (nivel_instrucao) médio das mulheres com idade maior ou igual a 41 anos.\n",
    "nivelInstMedioWomen2 = df[(df['sexo']==2) & (df['idade'] >= 41)].nivel_instrucao.mean()\n",
    "print(\"Nível de instrução médio de mulheres acima de 41 anos: {}\".format(nivelInstMedioWomen2))\n",
    "\n",
    "#plotar os gráficos de caixa (boxplot) para essas 04 análises.\n",
    "manOverFourtyOne = df[(df['sexo']==1) & (df['idade'] >= 41)].nivel_instrucao\n",
    "womenOverFourtyOne = df[(df['sexo']==2) & (df['idade'] >= 41)].nivel_instrucao\n",
    "\n",
    "manUpToFourty = df[(df['sexo']==1) & (df['idade'] <= 40)].nivel_instrucao\n",
    "womenUpToFourty = df[(df['sexo']==2) & (df['idade'] <= 40)].nivel_instrucao\n",
    "\n",
    "\n",
    "data = [np.array(manOverFourtyOne),\n",
    "        np.array(womenOverFourtyOne),\n",
    "        np.array(manUpToFourty),\n",
    "        np.array(womenUpToFourty)]\n",
    "\n",
    "fig = plt.figure(1, figsize=(9,6))\n",
    "axes = fig.add_subplot(111)\n",
    "boxplot = axes.boxplot(data)"
   ]
  },
  {
   "cell_type": "markdown",
   "metadata": {},
   "source": [
    "Questão 4 - Nível de Instrução em função de idade e sexo\n",
    "- Determine se há correlação entre sexo e nível de instrução (nivel_instrucao).\n",
    "- Determine se há correlação entre raça (cor_raca) e nível de instrução (nivel_instrucao).\n",
    "- Determine se há correlação entre sexo e dirige_motocicleta.\n",
    "- Apresente os resultados de forma gráfica."
   ]
  },
  {
   "cell_type": "code",
   "execution_count": 100,
   "metadata": {
    "collapsed": false
   },
   "outputs": [
    {
     "name": "stdout",
     "output_type": "stream",
     "text": [
      "Respostas da Questão 04 \n",
      "\n",
      "Há uma correlação mas ela é de 0.036047. Isto é, uma correlação irrelevante.\n",
      "Não há uma correlação. Os resultados para tal foram negativos.\n",
      "Há uma correlação de 0.34 entre . Os resultados para tal foram negativos.\n"
     ]
    },
    {
     "data": {
      "text/plain": [
       "<matplotlib.text.Text at 0x11dc84a20>"
      ]
     },
     "execution_count": 100,
     "metadata": {},
     "output_type": "execute_result"
    },
    {
     "data": {
      "image/png": "[encoded data removed]",
      "text/plain": [
       "<matplotlib.figure.Figure at 0x11d4cfef0>"
      ]
     },
     "metadata": {},
     "output_type": "display_data"
    }
   ],
   "source": [
    "# Questão 04\n",
    "print(\"Respostas da Questão 04 \\n\")\n",
    "\n",
    "#Determine se há correlação entre sexo e nível de instrução (nivel_instrucao).\n",
    "df[['sexo','nivel_instrucao']].corr()\n",
    "print(\"Há uma correlação mas ela é de 0.036047. Isto é, uma correlação irrelevante.\")\n",
    "\n",
    "df[['cor_raca','nivel_instrucao']].corr()\n",
    "print(\"Não há uma correlação. Os resultados para tal foram negativos.\")\n",
    "\n",
    "df[['sexo', 'dirige_motocicleta']].corr()\n",
    "print(\"Há uma correlação de 0.34 entre . Os resultados para tal foram negativos.\")\n",
    "\n",
    "correlationDf = df[['sexo','cor_raca', 'dirige_motocicleta' , 'nivel_instrucao']]\n",
    "correlationDf\n",
    "\n",
    "sns.heatmap(correlationDf.corr(), cmap='coolwarm', annot=True)\n",
    "plt.title('CORRELATION RESULTS')"
   ]
  },
  {
   "cell_type": "markdown",
   "metadata": {},
   "source": [
    "Questão 5 - Perfil dos motoristas de motocicletas\n",
    "- Considere \"Jovem\" pessoas com idade até 35 anos e \"Adulto\" pessoas com idade igual ou maior que 36 anos.\n",
    "- Determine o percentual de homens Jovens que dirigem motocicleta\n",
    "- Determine o percentual de homens Adultos que dirigem motocicleta\n",
    "- Determine o percentual de mulheres Jovens que dirigem motocicleta\n",
    "- Determine o percentual de mulheres Adultas que dirigem motocicleta\n",
    "- Plote esses 04 resultados num gráfico de barras"
   ]
  },
  {
   "cell_type": "code",
   "execution_count": 103,
   "metadata": {
    "collapsed": false
   },
   "outputs": [
    {
     "name": "stdout",
     "output_type": "stream",
     "text": [
      "Respostas da Questão 05\n",
      "57.295836669335465% of young men are driving motorciles\n",
      "51.57125700560449% of adult men are driving motorciles\n",
      "29.283426741393114% of young women are driving motorciles\n",
      "11.178943154523619% of adult women are driving motorciles\n"
     ]
    },
    {
     "data": {
      "text/plain": [
       "<matplotlib.legend.Legend at 0x11d50d5f8>"
      ]
     },
     "execution_count": 103,
     "metadata": {},
     "output_type": "execute_result"
    },
    {
     "data": {
      "image/png": "[encoded data removed]",
      "text/plain": [
       "<matplotlib.figure.Figure at 0x11c6233c8>"
      ]
     },
     "metadata": {},
     "output_type": "display_data"
    }
   ],
   "source": [
    "# Questão 05\n",
    "print(\"Respostas da Questão 05\")\n",
    " \n",
    "percentageYoungManDrivingMotorcicles = df[(df['sexo']==1) & (df['idade'] <= 35) & (df['dirige_motocicleta']==1)].sexo.count()/df[(df['sexo']==1) & (df['idade'] <= 35)].sexo.count() \n",
    "print(\"{}% of young men are driving motorciles\".format(percentageYoungManDrivingMotorcicles*100))\n",
    "\n",
    "percentageAdultManDrivingMotorcicles = df[(df['sexo']==1) & (df['idade'] > 35) & (df['dirige_motocicleta']==1)].sexo.count()/df[(df['sexo']==1) & (df['idade'] <= 35)].sexo.count() \n",
    "print(\"{}% of adult men are driving motorciles\".format(percentageAdultManDrivingMotorcicles*100))\n",
    "\n",
    "percentageYountWomenDrivingMotorcicles = df[(df['sexo']==2) & (df['idade'] <= 35) & (df['dirige_motocicleta']==1)].sexo.count()/df[(df['sexo']==1) & (df['idade'] <= 35)].sexo.count() \n",
    "print(\"{}% of young women are driving motorciles\".format(percentageYountWomenDrivingMotorcicles*100))\n",
    "\n",
    "percentageAdultWomenDrivingMotorcicles = df[(df['sexo']==2) & (df['idade'] > 35) & (df['dirige_motocicleta']==1)].sexo.count()/df[(df['sexo']==1) & (df['idade'] <= 35)].sexo.count() \n",
    "print(\"{}% of adult women are driving motorciles\".format(percentageAdultWomenDrivingMotorcicles*100))\n",
    "\n",
    "data = {'YougMan': percentageYoungManDrivingMotorcicles*100,\n",
    "        'AdultMan': percentageAdultManDrivingMotorcicles*100,\n",
    "        'YougWomen': percentageYountWomenDrivingMotorcicles*100,\n",
    "        'AdultWomen': percentageAdultWomenDrivingMotorcicles*100}\n",
    "\n",
    "newDf = pd.DataFrame(data=data, index=['Results'], columns=['YougMan','AdultMan','YougWomen','AdultWomen'])\n",
    "ax = newDf.plot(kind='bar')\n",
    "ax.set_ylabel('%')\n",
    "plt.legend(loc='center left', bbox_to_anchor=(1.0, 0.5))"
   ]
  },
  {
   "cell_type": "markdown",
   "metadata": {},
   "source": [
    "Questão 6 - Perfil dos motoristas de motocicletas\n",
    "- Determine o percentual de pessoas que utilizam motocilceta sempre ou quase sempre (freq_anda_motocicleta <= 2) e que sofreram acidente nos últimos 12 meses (aciden_lesao_12meses ==1).\n",
    "- Determine o percentual de pessoas que não utilizam frequentemente motocilceta (freq_anda_motocicleta >= 3) e que sofreram acidente nos últimos 12 meses (aciden_lesao_12meses ==1).\n",
    "- Apresente os resultados em gráfico de barras."
   ]
  },
  {
   "cell_type": "code",
   "execution_count": 104,
   "metadata": {
    "collapsed": false
   },
   "outputs": [
    {
     "name": "stdout",
     "output_type": "stream",
     "text": [
      "Respostas da Questão 06\n",
      "O percentual de pessoas que utilizam motocilceta sempre ou quase sempre e que sofreram acidente nos últimos 12 meses é de 1.420218597388791%\n",
      "O percentual de pessoas que não utilizam frequentemente motocilceta e que sofreram acidente nos últimos 12 meses é de 1.5431381017241952%\n"
     ]
    },
    {
     "data": {
      "text/plain": [
       "<matplotlib.legend.Legend at 0x11c5dde10>"
      ]
     },
     "execution_count": 104,
     "metadata": {},
     "output_type": "execute_result"
    },
    {
     "data": {
      "image/png": "[encoded data removed]",
      "text/plain": [
       "<matplotlib.figure.Figure at 0x11daa22e8>"
      ]
     },
     "metadata": {},
     "output_type": "display_data"
    }
   ],
   "source": [
    "# Questão 06\n",
    "print(\"Respostas da Questão 06\")\n",
    "\n",
    "# To see how many rows has a pandas DataFrame, reference to https://stackoverflow.com/questions/15943769/how-do-i-get-the-row-count-of-a-pandas-dataframe\n",
    "# DataFrame.shape[0] -> shape function returns a tuple (rows, columns). Add [0] to access rows\n",
    "\n",
    "firstPrcnt = df[(df['dirige_motocicleta']==1) & (df['freq_anda_motocicleta'] <=2) & (df['aciden_lesao_12meses']==1)].shape[0]/df.shape[0] \n",
    "print(\"O percentual de pessoas que utilizam motocilceta sempre ou quase sempre e que sofreram acidente nos últimos 12 meses é de {}%\".format(firstPrcnt*100))\n",
    "\n",
    "scondPrcnt = df[(df['freq_anda_motocicleta'] >=3) & (df['aciden_lesao_12meses']==1)].shape[0]/df.shape[0]\n",
    "print(\"O percentual de pessoas que não utilizam frequentemente motocilceta e que sofreram acidente nos últimos 12 meses é de {}%\".format(scondPrcnt*100))\n",
    "\n",
    "data = {'Frequent Bikers': firstPrcnt*100,\n",
    "        'Non-frequent Bikers': scondPrcnt*100}\n",
    "\n",
    "newDf = pd.DataFrame(data=data, index=[0], columns=['Frequent Bikers','Non-frequent Bikers'])\n",
    "newDf.plot.bar()\n",
    "plt.legend(loc='center left', bbox_to_anchor=(1.0, 0.5))"
   ]
  },
  {
   "cell_type": "markdown",
   "metadata": {},
   "source": [
    "Questão 7 - Perfil sobre consumo de alcool\n",
    "\n",
    "- Calcule a idade média que os homens começam a consumir alcool (idade_inicio_alcool)\n",
    "- Calcule a idade média que as mulheres começam a consumir alcool (idade_inicio_alcool)\n",
    "- Calcule a idade média que os homens começam a consumir alcool (idade_inicio_alcool) em função do nível de instrução (nivel_instrucao)\n",
    "   - Considerar:\n",
    "       - nivel_superior SE nivel_instrucao == 7\n",
    "       - nivel_medio SE nivel_instrucao == 5 OU 6\n",
    "       - nivel_basico SE nivel_intrucao < 5\n",
    "- Apresente o resultado de em forma gráfica\n",
    " \n",
    "OBS. Atenção. Nem todos os entrevistados foram questionados sobre o item \"idade_inicio_alcool\"."
   ]
  },
  {
   "cell_type": "code",
   "execution_count": 105,
   "metadata": {
    "collapsed": false
   },
   "outputs": [
    {
     "name": "stdout",
     "output_type": "stream",
     "text": [
      "Respostas da Questão 07\n",
      "A idade média que os homens começam a consumir alcool é de: 17.821967348625748%\n",
      "A idade média que as mulheres começam a consumir alcool é de: 20.55211726384365%\n"
     ]
    },
    {
     "data": {
      "text/plain": [
       "<matplotlib.legend.Legend at 0x11d2faa58>"
      ]
     },
     "execution_count": 105,
     "metadata": {},
     "output_type": "execute_result"
    },
    {
     "data": {
      "image/png": "[encoded data removed]",
      "text/plain": [
       "<matplotlib.figure.Figure at 0x11d2fabe0>"
      ]
     },
     "metadata": {},
     "output_type": "display_data"
    }
   ],
   "source": [
    "# Questão 07\n",
    "print(\"Respostas da Questão 07\")\n",
    "\n",
    "# Calcule idade média que os homens começam a consumir alcool (idade_inicio_alcool)\n",
    "avgAgeMenStartDrinkAlcohol = df[(df['idade_inicio_alcool'].notnull()) & \n",
    "                                (df['sexo'] == 1)].idade_inicio_alcool.mean()\n",
    "print(\"A idade média que os homens começam a consumir alcool é de: {}%\".format(avgAgeMenStartDrinkAlcohol))\n",
    "\n",
    "# Calcule a idade média que as mulheres começam a consumir alcool (idade_inicio_alcool)\n",
    "avgAgeWomenStartDrinkAlcohol = df[(df['idade_inicio_alcool'].notnull()) & \n",
    "                                  (df['sexo'] == 2)].idade_inicio_alcool.mean()\n",
    "print(\"A idade média que as mulheres começam a consumir alcool é de: {}%\".format(avgAgeWomenStartDrinkAlcohol))\n",
    "\n",
    "manDrinkingAgeForGrad = df[(df['idade_inicio_alcool'].notnull()) & \n",
    "                           (df['sexo'] == 1) & \n",
    "                           (df['nivel_instrucao']==7)\n",
    "                          ].idade_inicio_alcool.mean()\n",
    "\n",
    "manDrinkingAgeForHighSchool = df[(df['idade_inicio_alcool'].notnull()) & \n",
    "                              (df['sexo'] == 1) & \n",
    "                              ((df['nivel_instrucao']==5) | (df['nivel_instrucao']==6))\n",
    "                             ].idade_inicio_alcool.mean()\n",
    "\n",
    "manDrinkingAgeForMidSchool = df[(df['idade_inicio_alcool'].notnull()) & \n",
    "                           (df['sexo'] == 1) & \n",
    "                           (df['nivel_instrucao'] < 5)\n",
    "                          ].idade_inicio_alcool.mean()\n",
    "\n",
    "data = {'Men Start Drinking Age': avgAgeMenStartDrinkAlcohol,\n",
    "        'Women Start Drinking Age': avgAgeWomenStartDrinkAlcohol,\n",
    "        'Graduate Man Start Drinking Age': manDrinkingAgeForGrad,\n",
    "        'High School Man Start Drinking Age': manDrinkingAgeForHighSchool,\n",
    "        'Middle School Man Start Drinking Age': manDrinkingAgeForMidSchool}\n",
    "\n",
    "newDf = pd.DataFrame(data=data, index=[0], columns=list(data.keys()))\n",
    "\n",
    "# Using Pandas Built in visualization\n",
    "axes = newDf.plot(kind='bar')\n",
    "axes.set_ylabel('Idade')\n",
    "axes.set_ybound(lower=17, upper=21) # Limitar o eixo y(idade)\n",
    "plt.legend(loc='center left', bbox_to_anchor=(1.0, 0.5))"
   ]
  },
  {
   "cell_type": "markdown",
   "metadata": {},
   "source": [
    "Questão 8 - Proponha e resolva uma questão que use os dados dessa base de dados. Serão considerados os seguintes aspectos:\n",
    "- pertinência e relevância da questão.\n",
    "- corretude da resposta."
   ]
  },
  {
   "cell_type": "code",
   "execution_count": 109,
   "metadata": {
    "collapsed": false
   },
   "outputs": [
    {
     "name": "stdout",
     "output_type": "stream",
     "text": [
      "Respostas da Questão 08\n"
     ]
    },
    {
     "data": {
      "text/html": [
       "<div>\n",
       "<style>\n",
       "    .dataframe thead tr:only-child th {\n",
       "        text-align: right;\n",
       "    }\n",
       "\n",
       "    .dataframe thead th {\n",
       "        text-align: left;\n",
       "    }\n",
       "\n",
       "    .dataframe tbody tr th {\n",
       "        vertical-align: top;\n",
       "    }\n",
       "</style>\n",
       "<table border=\"1\" class=\"dataframe\">\n",
       "  <thead>\n",
       "    <tr style=\"text-align: right;\">\n",
       "      <th></th>\n",
       "      <th>cor_raca</th>\n",
       "      <th>nivel_instrucao</th>\n",
       "    </tr>\n",
       "  </thead>\n",
       "  <tbody>\n",
       "    <tr>\n",
       "      <th>cor_raca</th>\n",
       "      <td>1.000000</td>\n",
       "      <td>-0.151482</td>\n",
       "    </tr>\n",
       "    <tr>\n",
       "      <th>nivel_instrucao</th>\n",
       "      <td>-0.151482</td>\n",
       "      <td>1.000000</td>\n",
       "    </tr>\n",
       "  </tbody>\n",
       "</table>\n",
       "</div>"
      ],
      "text/plain": [
       "                 cor_raca  nivel_instrucao\n",
       "cor_raca         1.000000        -0.151482\n",
       "nivel_instrucao -0.151482         1.000000"
      ]
     },
     "execution_count": 109,
     "metadata": {},
     "output_type": "execute_result"
    },
    {
     "data": {
      "image/png": "[encoded data removed]",
      "text/plain": [
       "<matplotlib.figure.Figure at 0x11da5eeb8>"
      ]
     },
     "metadata": {},
     "output_type": "display_data"
    }
   ],
   "source": [
    "# Questão 08\n",
    "\n",
    "# \n",
    "#   A análise será entre raça e nível de instrução. Quer-se saber como as proporções raciais\n",
    "# se dão dentre os níveis de instrução. Este dado pode ajudar a entender a distribuição racial\n",
    "# dentre as pessoas mais escolarizadas ou não.\n",
    "\n",
    "print(\"Respostas da Questão 08\")\n",
    "\n",
    "# cor_raca (branca=1, preta=2, amarela=3, parda=4, indígena=5)\n",
    "# nivel_instrucao (pré_escola=1, alfabetização=2, ensino_fundamental=3 e 4, ensino_médio = 5 e 6, graduação=7)\n",
    "\n",
    "raceInstruc = df[['cor_raca','nivel_instrucao']]\n",
    "\n",
    "brancaByInstrctn = raceInstruc[(df['cor_raca']==1)].groupby('nivel_instrucao').count()['cor_raca'].values # Get white people count by Instruction\n",
    "pretaByInstrctn = raceInstruc[(df['cor_raca']==2)].groupby('nivel_instrucao').count()['cor_raca'].values # Get black people count by Instruction\n",
    "amarelaByInstrctn = raceInstruc[(df['cor_raca']==3)].groupby('nivel_instrucao').count()['cor_raca'].values # Get yellow people count by Instruction\n",
    "pardaByInstrctn = raceInstruc[(df['cor_raca']==4)].groupby('nivel_instrucao').count()['cor_raca'].values # Get pardo people count by Instruction\n",
    "indigenaByInstrctn = raceInstruc[(df['cor_raca']==5)].groupby('nivel_instrucao').count()['cor_raca'].values # Get white people count by Instruction\n",
    "\n",
    "data = {'branca': brancaByInstrctn,\n",
    "        'preta': pretaByInstrctn,\n",
    "        'amarela': amarelaByInstrctn,\n",
    "        'parda': pardaByInstrctn,\n",
    "        'indigena': indigenaByInstrctn}\n",
    "\n",
    "index = np.sort(raceInstruc['nivel_instrucao'].unique())\n",
    "\n",
    "newDf = pd.DataFrame(data=data, index=index, columns=list(data.keys()))\n",
    "\n",
    "# Using Pandas built in Data Visualization\n",
    "ax = newDf.plot(kind='bar', stacked=True)\n",
    "ax.set_xlabel('Nível de instrução')\n",
    "ax.set_ylabel('Número de Pessoas')\n",
    "\n",
    "raceInstruc.corr()\n",
    "\n",
    "\n",
    "#  Pelo gráfico de barras, percebe-se que a propoção de pessoas brancas em relação as demais\n",
    "# aumenta bastante. Entretanto, não é possível dizer que há uma ligação direta entre ser uma\n",
    "# pessoa branca e ser uma pessoa mais instruída. Os dados de correlação mostraram uma correlação\n",
    "# negativa entre essas variáveis."
   ]
  },
  {
   "cell_type": "code",
   "execution_count": null,
   "metadata": {
    "collapsed": true
   },
   "outputs": [],
   "source": []
  }
 ],
 "metadata": {
  "kernelspec": {
   "display_name": "Python 3",
   "language": "python",
   "name": "python3"
  },
  "language_info": {
   "codemirror_mode": {
    "name": "ipython",
    "version": 3
   },
   "file_extension": ".py",
   "mimetype": "text/x-python",
   "name": "python",
   "nbconvert_exporter": "python",
   "pygments_lexer": "ipython3",
   "version": "3.6.0"
  }
 },
 "nbformat": 4,
 "nbformat_minor": 2
}
