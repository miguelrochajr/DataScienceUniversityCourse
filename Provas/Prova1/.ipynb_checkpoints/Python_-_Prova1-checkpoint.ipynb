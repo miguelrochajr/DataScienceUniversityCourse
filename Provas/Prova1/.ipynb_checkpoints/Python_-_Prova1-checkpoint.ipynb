{
 "cells": [
  {
   "cell_type": "markdown",
   "metadata": {},
   "source": [
    "# Tópicos Especiais em Processamento da Informação: Ciência de Dados\n",
    "\n",
    "\n",
    "## Primeira Avaliação:\n",
    "\n",
    "Prof. Luiz Affonso Guedes Engenharia de Computação - UFRN 2017-2\n",
    "\n",
    "Alunos: \n",
    "    Gabriel Lucas A. M. Signoretti,\n",
    "    Miguel Silva da Rocha Junior"
   ]
  },
  {
   "cell_type": "markdown",
   "metadata": {},
   "source": [
    "Objetivo:\n",
    "\n",
    "    Análise da base de dados sobre aspectos socio-cuturais de brasileiros adultos (acima de 18 anos). Base de dados da Pesquisa Nacional de Saúde 2013 - IBGE\n"
   ]
  },
  {
   "cell_type": "markdown",
   "metadata": {},
   "source": [
    "# Instruções\n",
    "- Carregue a base de dados: base_pesquisa_nacional_de_saude_2013_IBGE.csv\n",
    "- Campos (colunas da base de dados)\n",
    "    - saude_autorreferida (muito_ruim=1, ruim=2, boa=3, muito_boa=4, excelente=5)\n",
    "    - sexo (masculino=1, feminino=2)\n",
    "    - idade (idade em anos)\n",
    "    - cor_raca (branca=1, preta=2, amarela=3, parda=4, indígena=5)\n",
    "    - e_civil (casado=1, separado_ou_desquitado_judicialmente=2, divorciado=3, viúvo=4, solteiro=5) \n",
    "    - nivel_instrucao (pré_escola=1, alfabetização=2, ensino_fundamental=3 e 4, ensino_médio = 5 e 6, graduação=7)\n",
    "    - sabe_ler_escrever (sim=1, não=2)\n",
    "    - dirige_carro (sim=1, não=2)\n",
    "    - dirige_motocicleta (sim=1, não=2)\n",
    "    - freq_anda_motocicleta (sempre=1, quase_sempre=2, às_vezes=3, raramente=4, nunca=5)\n",
    "    - aciden_lesao_12meses (sim=1, não=2) - Acidente de trânsito nos últimos 12 meses com lesão.\n",
    "    - idade_inicio_alcool - idade que começou inferir bebida alcólica. A pergunta não foi feita para todos os participantes da pesquisa. Ainda há o caso de alguns entrevistados que não emgerem bebidas alcólicas, ou não sabiam ou não responderam. Nesses casos, não há valor no campo correspondente."
   ]
  },
  {
   "cell_type": "code",
   "execution_count": 178,
   "metadata": {
    "collapsed": false
   },
   "outputs": [
    {
     "name": "stdout",
     "output_type": "stream",
     "text": [
      "carregar a base de dados - base_pesquisa_nacional_de_saude_2013_IBGE.csv\n"
     ]
    }
   ],
   "source": [
    "# importar pandas\n",
    "import pandas as pd\n",
    "#import seaborn as sns\n",
    "import numpy as np\n",
    "import matplotlib.pyplot as plt\n",
    "%matplotlib inline\n",
    "print(\"carregar a base de dados - base_pesquisa_nacional_de_saude_2013_IBGE.csv\")"
   ]
  },
  {
   "cell_type": "code",
   "execution_count": 130,
   "metadata": {
    "collapsed": false
   },
   "outputs": [
    {
     "data": {
      "text/html": [
       "<div>\n",
       "<style>\n",
       "    .dataframe thead tr:only-child th {\n",
       "        text-align: right;\n",
       "    }\n",
       "\n",
       "    .dataframe thead th {\n",
       "        text-align: left;\n",
       "    }\n",
       "\n",
       "    .dataframe tbody tr th {\n",
       "        vertical-align: top;\n",
       "    }\n",
       "</style>\n",
       "<table border=\"1\" class=\"dataframe\">\n",
       "  <thead>\n",
       "    <tr style=\"text-align: right;\">\n",
       "      <th></th>\n",
       "      <th>UF</th>\n",
       "      <th>saude_autorreferida</th>\n",
       "      <th>sexo</th>\n",
       "      <th>idade</th>\n",
       "      <th>cor_raca</th>\n",
       "      <th>e_civil</th>\n",
       "      <th>nivel_instrucao</th>\n",
       "      <th>sabe_ler_escrever</th>\n",
       "      <th>dirige_carro</th>\n",
       "      <th>dirige_motocicleta</th>\n",
       "      <th>freq_anda_motocicleta</th>\n",
       "      <th>aciden_lesao_12meses</th>\n",
       "      <th>idade_inicio_alcool</th>\n",
       "    </tr>\n",
       "  </thead>\n",
       "  <tbody>\n",
       "    <tr>\n",
       "      <th>0</th>\n",
       "      <td>11</td>\n",
       "      <td>3</td>\n",
       "      <td>1</td>\n",
       "      <td>35</td>\n",
       "      <td>2</td>\n",
       "      <td>1</td>\n",
       "      <td>2</td>\n",
       "      <td>2</td>\n",
       "      <td>2</td>\n",
       "      <td>2</td>\n",
       "      <td>5</td>\n",
       "      <td>2</td>\n",
       "      <td>NaN</td>\n",
       "    </tr>\n",
       "    <tr>\n",
       "      <th>1</th>\n",
       "      <td>11</td>\n",
       "      <td>2</td>\n",
       "      <td>1</td>\n",
       "      <td>42</td>\n",
       "      <td>4</td>\n",
       "      <td>1</td>\n",
       "      <td>2</td>\n",
       "      <td>1</td>\n",
       "      <td>1</td>\n",
       "      <td>1</td>\n",
       "      <td>2</td>\n",
       "      <td>2</td>\n",
       "      <td>22.0</td>\n",
       "    </tr>\n",
       "    <tr>\n",
       "      <th>2</th>\n",
       "      <td>11</td>\n",
       "      <td>2</td>\n",
       "      <td>2</td>\n",
       "      <td>32</td>\n",
       "      <td>2</td>\n",
       "      <td>5</td>\n",
       "      <td>5</td>\n",
       "      <td>1</td>\n",
       "      <td>2</td>\n",
       "      <td>2</td>\n",
       "      <td>1</td>\n",
       "      <td>2</td>\n",
       "      <td>NaN</td>\n",
       "    </tr>\n",
       "    <tr>\n",
       "      <th>3</th>\n",
       "      <td>11</td>\n",
       "      <td>2</td>\n",
       "      <td>2</td>\n",
       "      <td>27</td>\n",
       "      <td>1</td>\n",
       "      <td>5</td>\n",
       "      <td>3</td>\n",
       "      <td>1</td>\n",
       "      <td>1</td>\n",
       "      <td>1</td>\n",
       "      <td>5</td>\n",
       "      <td>2</td>\n",
       "      <td>NaN</td>\n",
       "    </tr>\n",
       "    <tr>\n",
       "      <th>4</th>\n",
       "      <td>11</td>\n",
       "      <td>3</td>\n",
       "      <td>1</td>\n",
       "      <td>53</td>\n",
       "      <td>2</td>\n",
       "      <td>1</td>\n",
       "      <td>1</td>\n",
       "      <td>1</td>\n",
       "      <td>2</td>\n",
       "      <td>2</td>\n",
       "      <td>5</td>\n",
       "      <td>2</td>\n",
       "      <td>NaN</td>\n",
       "    </tr>\n",
       "  </tbody>\n",
       "</table>\n",
       "</div>"
      ],
      "text/plain": [
       "   UF  saude_autorreferida  sexo  idade  cor_raca  e_civil  nivel_instrucao  \\\n",
       "0  11                    3     1     35         2        1                2   \n",
       "1  11                    2     1     42         4        1                2   \n",
       "2  11                    2     2     32         2        5                5   \n",
       "3  11                    2     2     27         1        5                3   \n",
       "4  11                    3     1     53         2        1                1   \n",
       "\n",
       "   sabe_ler_escrever  dirige_carro  dirige_motocicleta  freq_anda_motocicleta  \\\n",
       "0                  2             2                   2                      5   \n",
       "1                  1             1                   1                      2   \n",
       "2                  1             2                   2                      1   \n",
       "3                  1             1                   1                      5   \n",
       "4                  1             2                   2                      5   \n",
       "\n",
       "   aciden_lesao_12meses  idade_inicio_alcool  \n",
       "0                     2                  NaN  \n",
       "1                     2                 22.0  \n",
       "2                     2                  NaN  \n",
       "3                     2                  NaN  \n",
       "4                     2                  NaN  "
      ]
     },
     "execution_count": 130,
     "metadata": {},
     "output_type": "execute_result"
    }
   ],
   "source": [
    "df = pd.read_csv(\"base_pesquisa_nacional_de_saude_2013_IBGE.csv\",sep=';')\n",
    "df.head()"
   ]
  },
  {
   "cell_type": "markdown",
   "metadata": {},
   "source": [
    "Questão 1 - Análise sobre idade e estado civil\n",
    "- Determinar o percentual dos entrevistados por sexo.\n",
    "- Calcular a idade média dos homens\n",
    "- Calcular a idade média das mulheres\n",
    "- Calcular a idade média dos homens casados\n",
    "- Calcular a idade média das mulheres casadas\n",
    "- Plotar o histograma das idades das pessoas do sexo masculino\n",
    "- plotar o histograma das pessoas do sexo feminino\n"
   ]
  },
  {
   "cell_type": "code",
   "execution_count": 131,
   "metadata": {
    "collapsed": false
   },
   "outputs": [
    {
     "name": "stdout",
     "output_type": "stream",
     "text": [
      "Respostas da Questão 01\n",
      "Men percentage: 43.05504800504967%\n",
      "Women percentage: 56.94495199495033%\n"
     ]
    }
   ],
   "source": [
    "# Questão 01\n",
    "print(\"Respostas da Questão 01\")\n",
    "\n",
    "menPercentage = (df[df['sexo']==1].sexo.count())/(df.sexo.count())\n",
    "womenPercentage = (df[df['sexo']==2].sexo.count())/(df.sexo.count())\n",
    "\n",
    "print(\"Men percentage: {}%\".format(menPercentage*100))\n",
    "print(\"Women percentage: {}%\".format(womenPercentage*100))\n"
   ]
  },
  {
   "cell_type": "code",
   "execution_count": 132,
   "metadata": {
    "collapsed": false
   },
   "outputs": [
    {
     "data": {
      "text/plain": [
       "43.008217592592594"
      ]
     },
     "execution_count": 132,
     "metadata": {},
     "output_type": "execute_result"
    }
   ],
   "source": [
    "#Calcular a idade média dos homens\n",
    "df[df['sexo']==1]['idade'].mean()"
   ]
  },
  {
   "cell_type": "code",
   "execution_count": 133,
   "metadata": {
    "collapsed": false
   },
   "outputs": [
    {
     "data": {
      "text/plain": [
       "43.5439005892305"
      ]
     },
     "execution_count": 133,
     "metadata": {},
     "output_type": "execute_result"
    }
   ],
   "source": [
    "#Calcular a idade média das mulheres\n",
    "df[df['sexo']==2]['idade'].mean()"
   ]
  },
  {
   "cell_type": "code",
   "execution_count": 134,
   "metadata": {
    "collapsed": false
   },
   "outputs": [
    {
     "name": "stderr",
     "output_type": "stream",
     "text": [
      "/Users/miguelsilvadarochajunior/anaconda3/lib/python3.6/site-packages/ipykernel/__main__.py:2: UserWarning: Boolean Series key will be reindexed to match DataFrame index.\n",
      "  from ipykernel import kernelapp as app\n"
     ]
    },
    {
     "data": {
      "text/plain": [
       "48.625589836660616"
      ]
     },
     "execution_count": 134,
     "metadata": {},
     "output_type": "execute_result"
    }
   ],
   "source": [
    "#Calcular a idade média dos homens casados\n",
    "df[df['sexo']==1][df['e_civil']==1]['idade'].mean()"
   ]
  },
  {
   "cell_type": "code",
   "execution_count": 135,
   "metadata": {
    "collapsed": false
   },
   "outputs": [
    {
     "name": "stderr",
     "output_type": "stream",
     "text": [
      "/Users/miguelsilvadarochajunior/anaconda3/lib/python3.6/site-packages/ipykernel/__main__.py:2: UserWarning: Boolean Series key will be reindexed to match DataFrame index.\n",
      "  from ipykernel import kernelapp as app\n"
     ]
    },
    {
     "data": {
      "text/plain": [
       "44.34226868956843"
      ]
     },
     "execution_count": 135,
     "metadata": {},
     "output_type": "execute_result"
    }
   ],
   "source": [
    "#Calcular a idade média dos mulheres casados\n",
    "df[df['sexo']==2][df['e_civil']==1]['idade'].mean()"
   ]
  },
  {
   "cell_type": "code",
   "execution_count": 136,
   "metadata": {
    "collapsed": false
   },
   "outputs": [
    {
     "data": {
      "text/plain": [
       "<matplotlib.axes._subplots.AxesSubplot at 0x11f1e8278>"
      ]
     },
     "execution_count": 136,
     "metadata": {},
     "output_type": "execute_result"
    },
    {
     "data": {
      "image/png": "[encoded data removed]",
      "text/plain": [
       "<matplotlib.figure.Figure at 0x11f1e8240>"
      ]
     },
     "metadata": {},
     "output_type": "display_data"
    }
   ],
   "source": [
    "#Plotar o histograma das idades das pessoas do sexo masculino\n",
    "dfMenAge = df[df['sexo']==1]['idade']\n",
    "dfMenAge.plot.hist()\n",
    "#plt.hist(dfMenAge)"
   ]
  },
  {
   "cell_type": "code",
   "execution_count": 137,
   "metadata": {
    "collapsed": false
   },
   "outputs": [
    {
     "data": {
      "text/plain": [
       "<matplotlib.axes._subplots.AxesSubplot at 0x11aed7198>"
      ]
     },
     "execution_count": 137,
     "metadata": {},
     "output_type": "execute_result"
    },
    {
     "data": {
      "image/png": "[encoded data removed]",
      "text/plain": [
       "<matplotlib.figure.Figure at 0x11f78f6d8>"
      ]
     },
     "metadata": {},
     "output_type": "display_data"
    }
   ],
   "source": [
    "#Plotar o histograma das idades das pessoas do sexo feminino\n",
    "dfWomenHist = df[df['sexo']==2]\n",
    "dfWomenHist.plot.hist()\n",
    "#plt.hist(dfMenAge)"
   ]
  },
  {
   "cell_type": "markdown",
   "metadata": {},
   "source": [
    "Questão 2 - Relação da Saúde Autorreferido em função da idade\n",
    "- calcular a saude_autorreferida média dos homens com idade até 40 anos.\n",
    "- calcular a saude_autorreferida média das mulheres com idade até 40 anos.\n",
    "- calcular a saude_autorreferida média dos homens com idade maior ou igual a 41 anos.\n",
    "- calcular a saude_autorreferida média das mulheres com idade maior ou igual a 41 anos.\n",
    "- plote os gráficos de caixa (boxplot) para essas 04 análises."
   ]
  },
  {
   "cell_type": "code",
   "execution_count": 139,
   "metadata": {
    "collapsed": false
   },
   "outputs": [
    {
     "name": "stdout",
     "output_type": "stream",
     "text": [
      "Respostas da Questão 02\n"
     ]
    }
   ],
   "source": [
    "# Questão 02\n",
    "print(\"Respostas da Questão 02\")"
   ]
  },
  {
   "cell_type": "markdown",
   "metadata": {},
   "source": [
    "Questão 3 - Nível de Instrução em função de idade e sexo\n",
    "- calcular o nível de instrução (nivel_instrucao) médio dos homens com idade até 40 anos.\n",
    "- calcular o nível de instrução (nivel_instrucao) médio das mulheres com idade até 40 anos.\n",
    "- calcular o nível de instrução (nivel_instrucao) médio dos homens com idade maior ou igual a 41 anos.\n",
    "- calcular o nível de instrução (nivel_instrucao) médio das mulheres com idade maior ou igual a 41 anos.\n",
    "- plotar os gráficos de caixa (boxplot) para essas 04 análises."
   ]
  },
  {
   "cell_type": "code",
   "execution_count": 140,
   "metadata": {
    "collapsed": false
   },
   "outputs": [
    {
     "name": "stdout",
     "output_type": "stream",
     "text": [
      "Nível de instrução médio de homens com até 40 anos: 4.122871140835213\n"
     ]
    },
    {
     "name": "stderr",
     "output_type": "stream",
     "text": [
      "/Users/miguelsilvadarochajunior/anaconda3/lib/python3.6/site-packages/ipykernel/__main__.py:2: UserWarning: Boolean Series key will be reindexed to match DataFrame index.\n",
      "  from ipykernel import kernelapp as app\n"
     ]
    }
   ],
   "source": [
    "#calcular o nível de instrução (nivel_instrucao) médio dos homens com idade até 40 anos.\n",
    "nivelInstMedioHomem = df[df['sexo']==1][df['idade'] <= 40].nivel_instrucao.mean()\n",
    "print(\"Nível de instrução médio de homens com até 40 anos: {}\".format(nivelInstMedioHomem))"
   ]
  },
  {
   "cell_type": "code",
   "execution_count": 141,
   "metadata": {
    "collapsed": false
   },
   "outputs": [
    {
     "name": "stderr",
     "output_type": "stream",
     "text": [
      "/Users/miguelsilvadarochajunior/anaconda3/lib/python3.6/site-packages/ipykernel/__main__.py:2: UserWarning: Boolean Series key will be reindexed to match DataFrame index.\n",
      "  from ipykernel import kernelapp as app\n"
     ]
    },
    {
     "name": "stdout",
     "output_type": "stream",
     "text": [
      "Nível de instrução médio de mulheres com até 40 anos: 4.304697592483852\n"
     ]
    }
   ],
   "source": [
    "#calcular o nível de instrução (nivel_instrucao) médio dos homens com idade até 40 anos.\n",
    "nivelInstMedioWomen = df[df['sexo']==2][df['idade'] <= 40].nivel_instrucao.mean()\n",
    "print(\"Nível de instrução médio de mulheres com até 40 anos: {}\".format(nivelInstMedioWomen))"
   ]
  },
  {
   "cell_type": "code",
   "execution_count": 142,
   "metadata": {
    "collapsed": false
   },
   "outputs": [
    {
     "name": "stdout",
     "output_type": "stream",
     "text": [
      "Nível de instrução médio de homens com até 40 anos: 3.1195161166832555\n"
     ]
    },
    {
     "name": "stderr",
     "output_type": "stream",
     "text": [
      "/Users/miguelsilvadarochajunior/anaconda3/lib/python3.6/site-packages/ipykernel/__main__.py:2: UserWarning: Boolean Series key will be reindexed to match DataFrame index.\n",
      "  from ipykernel import kernelapp as app\n"
     ]
    }
   ],
   "source": [
    "#calcular o nível de instrução (nivel_instrucao) médio dos homens com idade maior ou igual a 41 anos.\n",
    "nivelInstMedioHomem2 = df[df['sexo']==1][df['idade'] >= 41].nivel_instrucao.mean()\n",
    "print(\"Nível de instrução médio de homens com até 40 anos: {}\".format(nivelInstMedioHomem2))\n"
   ]
  },
  {
   "cell_type": "code",
   "execution_count": 143,
   "metadata": {
    "collapsed": false
   },
   "outputs": [
    {
     "name": "stdout",
     "output_type": "stream",
     "text": [
      "Nível de instrução médio de mulheres com até 40 anos: 3.2287850683978667\n"
     ]
    },
    {
     "name": "stderr",
     "output_type": "stream",
     "text": [
      "/Users/miguelsilvadarochajunior/anaconda3/lib/python3.6/site-packages/ipykernel/__main__.py:1: UserWarning: Boolean Series key will be reindexed to match DataFrame index.\n",
      "  if __name__ == '__main__':\n"
     ]
    }
   ],
   "source": [
    "nivelInstMedioWomen2 = df[df['sexo']==2][df['idade'] >= 41].nivel_instrucao.mean()\n",
    "print(\"Nível de instrução médio de mulheres com até 40 anos: {}\".format(nivelInstMedioWomen2))"
   ]
  },
  {
   "cell_type": "code",
   "execution_count": 201,
   "metadata": {
    "collapsed": false
   },
   "outputs": [
    {
     "name": "stderr",
     "output_type": "stream",
     "text": [
      "/Users/miguelsilvadarochajunior/anaconda3/lib/python3.6/site-packages/ipykernel/__main__.py:2: UserWarning: Boolean Series key will be reindexed to match DataFrame index.\n",
      "  from ipykernel import kernelapp as app\n",
      "/Users/miguelsilvadarochajunior/anaconda3/lib/python3.6/site-packages/ipykernel/__main__.py:3: UserWarning: Boolean Series key will be reindexed to match DataFrame index.\n",
      "  app.launch_new_instance()\n",
      "/Users/miguelsilvadarochajunior/anaconda3/lib/python3.6/site-packages/ipykernel/__main__.py:5: UserWarning: Boolean Series key will be reindexed to match DataFrame index.\n",
      "/Users/miguelsilvadarochajunior/anaconda3/lib/python3.6/site-packages/ipykernel/__main__.py:6: UserWarning: Boolean Series key will be reindexed to match DataFrame index.\n"
     ]
    },
    {
     "ename": "AttributeError",
     "evalue": "'numpy.ndarray' object has no attribute 'len'",
     "output_type": "error",
     "traceback": [
      "\u001b[0;31m---------------------------------------------------------------------------\u001b[0m",
      "\u001b[0;31mAttributeError\u001b[0m                            Traceback (most recent call last)",
      "\u001b[0;32m<ipython-input-201-936a4f5608ca>\u001b[0m in \u001b[0;36m<module>\u001b[0;34m()\u001b[0m\n\u001b[1;32m     11\u001b[0m         np.array(womenUpToFourty)]\n\u001b[1;32m     12\u001b[0m \u001b[0;34m\u001b[0m\u001b[0m\n\u001b[0;32m---> 13\u001b[0;31m \u001b[0mprint\u001b[0m\u001b[0;34m(\u001b[0m\u001b[0mdata\u001b[0m\u001b[0;34m[\u001b[0m\u001b[0;36m0\u001b[0m\u001b[0;34m]\u001b[0m\u001b[0;34m.\u001b[0m\u001b[0mlen\u001b[0m\u001b[0;34m)\u001b[0m\u001b[0;34m\u001b[0m\u001b[0m\n\u001b[0m\u001b[1;32m     14\u001b[0m \u001b[0;34m\u001b[0m\u001b[0m\n\u001b[1;32m     15\u001b[0m \u001b[0ma\u001b[0m \u001b[0;34m=\u001b[0m \u001b[0mdata\u001b[0m\u001b[0;34m[\u001b[0m\u001b[0;36m0\u001b[0m\u001b[0;34m]\u001b[0m\u001b[0;34m\u001b[0m\u001b[0m\n",
      "\u001b[0;31mAttributeError\u001b[0m: 'numpy.ndarray' object has no attribute 'len'"
     ]
    }
   ],
   "source": [
    "#plotar os gráficos de caixa (boxplot) para essas 04 análises.\n",
    "manOverFourtyOne = df[df['sexo']==1][df['idade'] >= 41].nivel_instrucao\n",
    "womenOverFourtyOne = df[df['sexo']==2][df['idade'] >= 41].nivel_instrucao\n",
    "\n",
    "manUpToFourty = df[df['sexo']==1][df['idade'] <= 40].nivel_instrucao\n",
    "womenUpToFourty = df[df['sexo']==2][df['idade'] <= 40].nivel_instrucao\n",
    "\n",
    "data = [np.array(manOverFourtyOne),\n",
    "        np.array(womenOverFourtyOne),\n",
    "        np.array(manUpToFourty),\n",
    "        np.array(womenUpToFourty)]\n",
    "\n",
    "#print(data[0].len)\n",
    "\n",
    "a = data[0]\n",
    "\n",
    "fig = plt.figure(1, figsize=(9,6))\n",
    "axes = fig.add_subplot(111)\n",
    "boxplot = axes.boxplot(data)\n"
   ]
  },
  {
   "cell_type": "code",
   "execution_count": 108,
   "metadata": {
    "collapsed": false
   },
   "outputs": [
    {
     "name": "stdout",
     "output_type": "stream",
     "text": [
      "Respostas da Questão 03\n"
     ]
    }
   ],
   "source": [
    "# Questão 03\n",
    "print(\"Respostas da Questão 03\")"
   ]
  },
  {
   "cell_type": "markdown",
   "metadata": {},
   "source": [
    "Questão 4 - Nível de Instrução em função de idade e sexo\n",
    "- Determine se há correlação entre sexo e nível de instrução (nivel_instrucao).\n",
    "- Determine se há correlação entre raça (cor_raca) e nível de instrução (nivel_instrucao).\n",
    "- Determine se há correlação entre sexo e dirige_motocicleta.\n",
    "- Apresente os resultados de forma gráfica."
   ]
  },
  {
   "cell_type": "code",
   "execution_count": null,
   "metadata": {
    "collapsed": true
   },
   "outputs": [],
   "source": [
    "# Questão 04\n",
    "print(\"Respostas da Questão 04\")"
   ]
  },
  {
   "cell_type": "markdown",
   "metadata": {},
   "source": [
    "Questão 5 - Perfil dos motoristas de motocicletas\n",
    "- Considere \"Jovem\" pessoas com idade até 35 anos e \"Adulto\" pessoas com idade igual ou maior que 36 anos.\n",
    "- Determine o percentual de homens Jovens que dirigem motocicleta\n",
    "- Determine o percentual de homens Adultos que dirigem motocicleta\n",
    "- Determine o percentual de mulheres Jovens que dirigem motocicleta\n",
    "- Determine o percentual de mulheres Adultas que dirigem motocicleta\n",
    "- Plote esses 04 resultados num gráfico de barras"
   ]
  },
  {
   "cell_type": "code",
   "execution_count": null,
   "metadata": {
    "collapsed": true
   },
   "outputs": [],
   "source": [
    "# Questão 05\n",
    "print(\"Respostas da Questão 05\")"
   ]
  },
  {
   "cell_type": "markdown",
   "metadata": {},
   "source": [
    "Questão 6 - Perfil dos motoristas de motocicletas\n",
    "- Determine o percentual de pessoas que utilizam motocilceta sempre ou quase sempre (freq_anda_motocicleta <= 2) e que sofreram acidente nos últimos 12 meses (aciden_lesao_12meses ==1).\n",
    "- Determine o percentual de pessoas que não utilizam frequentemente motocilceta (freq_anda_motocicleta >= 3) e que sofreram acidente nos últimos 12 meses (aciden_lesao_12meses ==1).\n",
    "- Apresente os resultados em gráfico de barras."
   ]
  },
  {
   "cell_type": "code",
   "execution_count": 2,
   "metadata": {
    "collapsed": false
   },
   "outputs": [
    {
     "name": "stdout",
     "output_type": "stream",
     "text": [
      "Respostas da Questão 06\n"
     ]
    }
   ],
   "source": [
    "# Questão 06\n",
    "print(\"Respostas da Questão 06\")"
   ]
  },
  {
   "cell_type": "markdown",
   "metadata": {},
   "source": [
    "Questão 7 - Perfil sobre consumo de alcool\n",
    "\n",
    "- Calcule a idade média que os homens começam a consumir alcool (idade_inicio_alcool)\n",
    "- Calcule a idade média que as mulheres começam a consumir alcool (idade_inicio_alcool)\n",
    "- Calcule a idade média que os homens começam a consumir alcool (idade_inicio_alcool) em função do nível de instrução (nivel_instrucao)\n",
    "   - Considerar:\n",
    "       - nivel_superior SE nivel_instrucao == 7\n",
    "       - nivel_medio SE nivel_instrucao == 5 OU 6\n",
    "       - nivel_basico SE nivel_intrucao < 5\n",
    "- Apresente o resultado de em forma gráfica\n",
    " \n",
    "OBS. Atenção. Nem todos os entrevistados foram questionados sobre o item \"idade_inicio_alcool\"."
   ]
  },
  {
   "cell_type": "code",
   "execution_count": null,
   "metadata": {
    "collapsed": true
   },
   "outputs": [],
   "source": [
    "# Questão 07\n",
    "print(\"Respostas da Questão 07\")"
   ]
  },
  {
   "cell_type": "markdown",
   "metadata": {},
   "source": [
    "Questão 8 - Proponha e resolva uma questão que use os dados dessa base de dados. Serão considerados os seguintes aspectos:\n",
    "- pertinência e relevância da questão.\n",
    "- corretude da resposta."
   ]
  },
  {
   "cell_type": "code",
   "execution_count": null,
   "metadata": {
    "collapsed": true
   },
   "outputs": [],
   "source": [
    "# Questão 08\n",
    "print(\"Respostas da Questão 08\")"
   ]
  }
 ],
 "metadata": {
  "kernelspec": {
   "display_name": "Python 3",
   "language": "python",
   "name": "python3"
  },
  "language_info": {
   "codemirror_mode": {
    "name": "ipython",
    "version": 3
   },
   "file_extension": ".py",
   "mimetype": "text/x-python",
   "name": "python",
   "nbconvert_exporter": "python",
   "pygments_lexer": "ipython3",
   "version": "3.6.0"
  }
 },
 "nbformat": 4,
 "nbformat_minor": 2
}
