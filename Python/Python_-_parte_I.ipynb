{
 "cells": [
  {
   "cell_type": "markdown",
   "metadata": {},
   "source": [
    "# Tópicos Especiais em Processamento da Informação: Ciência de Dados\n",
    "Prof. Luiz Affonso Guedes\n",
    "Engenharia de Computação - UFRN\n",
    "2017-2"
   ]
  },
  {
   "cell_type": "markdown",
   "metadata": {},
   "source": [
    "# Introdução à Linguagem Python - Parte I\n",
    "Conteúdo:\n",
    "- Caracterização da Linguagem Python\n",
    "- Vantagens\n",
    "- Saída de dados\n",
    "- cálculos básicos\n",
    "- tipo lista\n",
    "- importação de pacotes"
   ]
  },
  {
   "cell_type": "markdown",
   "metadata": {},
   "source": [
    "- Python é uma linguagem de propósito geral - às vezes referida como utilitária - que é projetada para ser simples de ler e escrever. O seu objetivo é ser uma linguagem simples, porém completa.\n",
    "- Linguagem interpretada não tipada.\n",
    "- Liguagem estruturada, mas possui suporte a orientação a objetos.\n"
   ]
  },
  {
   "cell_type": "markdown",
   "metadata": {},
   "source": [
    "Uma introdução aos conceitos básicos de Python. Saiba como usar o Python de forma interativa e através de um script. Crie suas primeiras variáveis e familiarize-se com os tipos básicos de dados do Python."
   ]
  },
  {
   "cell_type": "code",
   "execution_count": null,
   "metadata": {
    "collapsed": false
   },
   "outputs": [],
   "source": [
    "# Comentário em Python\n",
    "# Imprimir mensagem em Python\n",
    "print(\"Alô, mundo!\")\n",
    "print(5 / 8)\n",
    "print(3 * 5)\n",
    "print(7 + 10)"
   ]
  },
  {
   "cell_type": "code",
   "execution_count": null,
   "metadata": {
    "collapsed": true
   },
   "outputs": [],
   "source": [
    "# Exemplo de uso do print\n",
    "print (\"a = %d b = %d\" % (10 ,20))"
   ]
  },
  {
   "cell_type": "markdown",
   "metadata": {},
   "source": [
    "O Python é perfeitamente adequado para fazer cálculos básicos. Além da adição, subtração, multiplicação e divisão, também há suporte para operações mais avançadas, tais como:\n",
    "- Exponenciação: **. Este operador levanta o número à esquerda para o poder do número à sua direita. Por exemplo, 4 ** 2 dará 16.\n",
    "- Modulo:%. Este operador retorna o restante da divisão do número à esquerda pelo número à direita. Por exemplo, 18% 7 é igual a 4."
   ]
  },
  {
   "cell_type": "code",
   "execution_count": null,
   "metadata": {
    "collapsed": true
   },
   "outputs": [],
   "source": [
    "# Exemplo de uso da Exponenciação\n",
    "print(4 ** 2)\n",
    "\n",
    "# Exemplo de Módulo\n",
    "print(18 % 7)\n"
   ]
  },
  {
   "cell_type": "code",
   "execution_count": null,
   "metadata": {
    "collapsed": false
   },
   "outputs": [],
   "source": [
    "# Exercício 01\n",
    "print(\"Se você tomou um empréstimo de R$1.000,00 com taxa de juros de 20% ao ano, após 04 anos qual é o valor de sua dívida?\")"
   ]
  },
  {
   "cell_type": "markdown",
   "metadata": {},
   "source": [
    "Variáveis e Tipos em Python\n",
    "- Em Python, uma variável permite que você se refira a um valor com um nome. Para criar uma variável use =, como este exemplo:\n",
    "\n",
    "x = 5\n",
    "\n",
    "Agora você pode usar o nome dessa variável, x, em vez do valor real, 5.\n",
    "\n",
    "Lembre-se, = em Python significa atribuição, não igualdade!"
   ]
  },
  {
   "cell_type": "code",
   "execution_count": null,
   "metadata": {
    "collapsed": false
   },
   "outputs": [],
   "source": [
    "x=5\n",
    "x\n"
   ]
  },
  {
   "cell_type": "code",
   "execution_count": null,
   "metadata": {
    "collapsed": false
   },
   "outputs": [],
   "source": [
    "print(x)"
   ]
  },
  {
   "cell_type": "code",
   "execution_count": null,
   "metadata": {
    "collapsed": false
   },
   "outputs": [],
   "source": [
    "X=6"
   ]
  },
  {
   "cell_type": "code",
   "execution_count": null,
   "metadata": {
    "collapsed": false
   },
   "outputs": [],
   "source": [
    "#Exercício 02\n",
    "print(\"Qual é o valor da variável x?\")\n",
    "print(\"Qual é o valor da variável X?\")"
   ]
  },
  {
   "cell_type": "code",
   "execution_count": null,
   "metadata": {
    "collapsed": true
   },
   "outputs": [],
   "source": [
    "# Exercício 03\n",
    "print(\"Reescreva o Exercçio 01 utilizando variáveis\")\n",
    "valor = \n",
    "taxa_juros = \n",
    "anos = \n",
    "dívida = \n",
    "print(divida)"
   ]
  },
  {
   "cell_type": "code",
   "execution_count": null,
   "metadata": {
    "collapsed": false
   },
   "outputs": [],
   "source": [
    "# Exercício 04\n",
    "print(\"Calcule o Índice de Massa Copórea (IMC)\")\n",
    "peso = 80\n",
    "altura = 1.74\n",
    "#IMC = ???\n",
    "\n",
    "print(IMC)"
   ]
  },
  {
   "cell_type": "markdown",
   "metadata": {},
   "source": [
    "Os tipos das variáveis são definidos dinamicamente em Python.\n",
    "- Tipos Básicos em Python\n",
    "    - int --> Inteiro\n",
    "    - flot --> ponto flutuante\n",
    "    - str --> String\n",
    "    - bool --> Booleano (True, False)"
   ]
  },
  {
   "cell_type": "code",
   "execution_count": null,
   "metadata": {
    "collapsed": true
   },
   "outputs": [],
   "source": [
    "# Exercício 05\n",
    "Nome_aluno = \"João da Silva\"\n",
    "nota = 3.8\n",
    "bom_aluno = False\n",
    "idade = 23\n",
    "print(\"Escreva no console os valores dessas variáveis\")"
   ]
  },
  {
   "cell_type": "code",
   "execution_count": null,
   "metadata": {
    "collapsed": false
   },
   "outputs": [],
   "source": [
    "# Exercício 06\n",
    "print(\"O que ocorre se se somar um int com um float?\")\n",
    "a = 2\n",
    "b = 1.1\n",
    "c = a+b\n",
    "print(c)"
   ]
  },
  {
   "cell_type": "code",
   "execution_count": null,
   "metadata": {
    "collapsed": false
   },
   "outputs": [],
   "source": [
    "# Exercício 07\n",
    "print(\"O que ocorre se se somar duas strings?\")\n",
    "Nome = \"Maria\"\n",
    "Sobrenome = \"Silva\"\n",
    "Nome_Completo = Nome + \" \" + Sobrenome\n",
    "Nome_Completo"
   ]
  },
  {
   "cell_type": "code",
   "execution_count": null,
   "metadata": {
    "collapsed": false
   },
   "outputs": [],
   "source": [
    "# Exercício 08\n",
    "print(\"É possível somar um int com um str?\")"
   ]
  },
  {
   "cell_type": "code",
   "execution_count": null,
   "metadata": {
    "collapsed": false
   },
   "outputs": [],
   "source": [
    "# Exercício 09\n",
    "# Use a função type(variavel) para obter o tipo da variável.\n",
    "x1 = 1\n",
    "x2 = \"aeiou\"\n",
    "x3 = False\n",
    "print(type(x1))\n",
    "print(type(x2))\n",
    "type(x3)"
   ]
  },
  {
   "cell_type": "markdown",
   "metadata": {},
   "source": [
    "Para se converter tipos em outros, em Python se utiliza as seguintes funções:\n",
    "- str(variavel) <-- converte variavel para string\n",
    "- int(variavel) <-- converte variavel para inteiro\n",
    "- float(variavel) <-- converte variavel para ponto flutuante\n",
    "- bool((variavel) <-- converte variavel para booleano"
   ]
  },
  {
   "cell_type": "code",
   "execution_count": null,
   "metadata": {
    "collapsed": true
   },
   "outputs": [],
   "source": [
    "# Exercício 10\n",
    "# Escreva um programa que converta uma variável \"idade\" que é inteiro  em string.\n",
    "idade = 22\n",
    "Nome = \"João\"\n",
    "# A saída de ser --> João tem 22 anos.\n",
    "print(???)"
   ]
  },
  {
   "cell_type": "code",
   "execution_count": null,
   "metadata": {
    "collapsed": false
   },
   "outputs": [],
   "source": [
    "# Curiosidade\n",
    "\"Eu sou \" + (\"gago \"*3)\n"
   ]
  },
  {
   "cell_type": "code",
   "execution_count": null,
   "metadata": {
    "collapsed": false
   },
   "outputs": [],
   "source": [
    "# Curiosidade\n",
    "# Teste essas opções\n",
    "False + True\n",
    "#False * True\n",
    "# False - True"
   ]
  },
  {
   "cell_type": "markdown",
   "metadata": {},
   "source": [
    "Tipo list\n",
    "- tipo complexo, que representa uma lista de outras variáveis, não necessariamente de mesmo tipos.\n",
    "- As variáveis podem ser listas. No caso, teremos listas de listas\n",
    "\n",
    "Exemplo:\n",
    "lista1 = [1,2,3]\n",
    "lista2 = [\"Maria\", \"1.66\", 22, True]  #[Nome, Altura, Idade, Boa_estudante]"
   ]
  },
  {
   "cell_type": "code",
   "execution_count": null,
   "metadata": {
    "collapsed": false
   },
   "outputs": [],
   "source": [
    "# Lista com variáveis de mesmo tipo\n",
    "# Áreas dos cômodos (em metros quadrados)\n",
    "hall = 11.25\n",
    "kit = 18.0\n",
    "liv = 20.0\n",
    "bed = 10.75\n",
    "bath = 9.50\n",
    "\n",
    "# Criação da lista areas\n",
    "areas = [hall, kit, liv, bed, bath]\n",
    "\n",
    "# Print areas\n",
    "print(areas)"
   ]
  },
  {
   "cell_type": "code",
   "execution_count": null,
   "metadata": {
    "collapsed": false
   },
   "outputs": [],
   "source": [
    "# Lista com variáveis de diferentes tipos\n",
    "# Áreas dos cômodos (em metros quadrados)\n",
    "hall = 11.25\n",
    "kit = 18.0\n",
    "liv = 20.0\n",
    "bed = 10.75\n",
    "bath = 9.50\n",
    "\n",
    "# Criaão da lista areas\n",
    "areas = [\"hallway\", hall, \"kitchen\", kit, \"living room\", liv, \"bedroom\", bed, \"bathroom\", bath]\n",
    "\n",
    "# Print areas\n",
    "print(areas)\n"
   ]
  },
  {
   "cell_type": "code",
   "execution_count": null,
   "metadata": {
    "collapsed": true
   },
   "outputs": [],
   "source": [
    "# Lista de Lista\n",
    "# variáveis de área variables (em metro quadrado)\n",
    "hall = 11.25\n",
    "kit = 18.0\n",
    "liv = 20.0\n",
    "bed = 10.75\n",
    "bath = 9.50\n",
    "\n",
    "# informação sobre metragem da casa como lista de lista\n",
    "house = [[\"hallway\", hall],\n",
    "         [\"kitchen\", kit],\n",
    "         [\"living room\", liv],\n",
    "         [\"bedroom\", bed],\n",
    "         [\"bathroom\", bath]\n",
    "         ]\n",
    "\n",
    "# Print a variaável house\n",
    "\n",
    "print(house)\n",
    "\n",
    "# Print o tipo da variável house\n",
    "\n",
    "print(type(house))"
   ]
  },
  {
   "cell_type": "code",
   "execution_count": null,
   "metadata": {
    "collapsed": true
   },
   "outputs": [],
   "source": [
    "# Exercício 11\n",
    "# Crie 01 lista Familia, que é composta por 04 listas: Pai, Mae, Filho, Filha.\n",
    "# Essas listas têm as variáveis Nome (str), Idade (int), Peso (float), Altura (float)\n",
    "sexo (bool) True-feminino, False-Masculino\n",
    "Pai = \n",
    "Mae = \n",
    "Filho = \n",
    "Filha = \n",
    "Familia = \n",
    "print(Familia)"
   ]
  },
  {
   "cell_type": "markdown",
   "metadata": {},
   "source": [
    "Acessado elementos d euma lista\n",
    "- list[n]  --> retorna a variável da posição n. O primeiro índice é o ZERO\n",
    "- list[n1:n2] --> retorna uma sub-lista da posição n1 até a posição n2-1\n",
    "- list[:n] --> retorna uma sub-lista da posição ZERO até n-1\n",
    "- list[n:] --> retorna uma sub-lista da posição n até o final da lista"
   ]
  },
  {
   "cell_type": "code",
   "execution_count": null,
   "metadata": {
    "collapsed": false
   },
   "outputs": [],
   "source": [
    "# Exemplos\n",
    "lista = [1,2,3,4,5,6]\n",
    "#lista[0]\n",
    "#lista[2]\n",
    "#lista[7]\n",
    "#lista[-1]\n",
    "#lista[-2]\n",
    "#lista[1:3]\n",
    "#lista[:3]\n",
    "#lista[2:]"
   ]
  },
  {
   "cell_type": "code",
   "execution_count": null,
   "metadata": {
    "collapsed": true
   },
   "outputs": [],
   "source": [
    "#Exercício 12\n",
    "\n",
    "# Create the areas list\n",
    "areas = [\"hallway\", 11.25, \"kitchen\", 18.0, \"living room\", 20.0, \"bedroom\", 10.75, \"bathroom\", 9.50]\n",
    "\n",
    "# Print o segundo elemento da lista\n",
    "print(????)\n",
    "\n",
    "# Print o valor do último elemnto da lista\n",
    "print(????)\n",
    "\n",
    "# Print o valor da área do living room\n",
    "print(????)\n",
    "\n",
    "# Print o valor da área total da casa \n",
    "print(???)"
   ]
  },
  {
   "cell_type": "code",
   "execution_count": null,
   "metadata": {
    "collapsed": false
   },
   "outputs": [],
   "source": [
    "# Dica\n",
    "x = [[\"a\", \"b\", \"c\"],\n",
    "     [\"d\", \"e\", \"f\"],\n",
    "     [\"g\", \"h\", \"i\"]]\n",
    "print(x[2][0])\n",
    "print(x[2][:2])"
   ]
  },
  {
   "cell_type": "code",
   "execution_count": null,
   "metadata": {
    "collapsed": true
   },
   "outputs": [],
   "source": [
    "#Exercício 13\n",
    "# Dado o Exercício 11.\n",
    "# Crie uma lista denominada de Nomes que contenha os nomes do Pai, Mae, Filho e Filha da lista Familia"
   ]
  },
  {
   "cell_type": "code",
   "execution_count": null,
   "metadata": {
    "collapsed": true
   },
   "outputs": [],
   "source": [
    "#Exercício 14\n",
    "# Dado o Exercício 11.\n",
    "# Crie uma lista denominada de Filhos que contenha apenas as informações de Filho e Filha da lista Familia\n"
   ]
  },
  {
   "cell_type": "code",
   "execution_count": null,
   "metadata": {
    "collapsed": true
   },
   "outputs": [],
   "source": [
    "#Exercício 15\n",
    "# Dado o Exercício 11.\n",
    "# Calcule o peso médio do pesos das pessoas da lista Familia. \n",
    "# Armazene o resultado na variável peso_medio\n",
    "????\n",
    "print(peso_medio)"
   ]
  },
  {
   "cell_type": "markdown",
   "metadata": {},
   "source": [
    "Modificar elementos de uma lista\n",
    "- lista[elemento] = novo_valor\n",
    "\n",
    "Incluir elementos em lista\n",
    "- lista3 = lista1 + lista3\n",
    "\n",
    "Remover Elementos em Lista\n",
    "- del(lista[elemento])"
   ]
  },
  {
   "cell_type": "code",
   "execution_count": null,
   "metadata": {
    "collapsed": false
   },
   "outputs": [],
   "source": [
    "# Exercício 16 \n",
    "# Dado o Exercício 11\n",
    "# Inclua mais uma filho, denominado Filho2 na lista Familia\n",
    "\n",
    "print(Familia)"
   ]
  },
  {
   "cell_type": "code",
   "execution_count": null,
   "metadata": {
    "collapsed": true
   },
   "outputs": [],
   "source": [
    "# Exercício 17\n",
    "# Dado o Exercício 11\n",
    "# Remova Filho da lista Familia\n",
    "# O que ocorre com os índices da lista Familia?\n",
    "\n",
    "print(Familia)"
   ]
  },
  {
   "cell_type": "code",
   "execution_count": null,
   "metadata": {
    "collapsed": true
   },
   "outputs": [],
   "source": [
    "# Exercício 18\n",
    "# Remova pela oredem a string \"poolhouse\" e o valor de sua área\n",
    "areas = [\"hallway\", 11.25, \"kitchen\", 18.0,\n",
    "        \"chill zone\", 20.0, \"bedroom\", 10.75,\n",
    "         \"bathroom\", 10.50, \"poolhouse\", 24.5,\n",
    "         \"garage\", 15.45]\n",
    "del(areas[??])\n",
    "del(areas[??])\n",
    "print(areas)"
   ]
  },
  {
   "cell_type": "code",
   "execution_count": null,
   "metadata": {
    "collapsed": true
   },
   "outputs": [],
   "source": [
    "# Cópia de lista: diferença entre atribuição e cópia de listas\n",
    "# Criação de lista\n",
    "lista1 = [11.25, 18.0, 20.0, 10.75, 9.50]\n",
    "\n",
    "# Atribuição e copia de listas\n",
    "lista2 = lista1\n",
    "#lista2 = list(lista1)\n",
    "#lista2 = lista1[:]\n",
    "\n",
    "# Modificação na lista\n",
    "lista2[0] = 5.0\n",
    "\n",
    "# Print lista1\n",
    "print(lista1)"
   ]
  },
  {
   "cell_type": "markdown",
   "metadata": {},
   "source": [
    "Função em Python\n",
    "- Há diversas funções úteis já disponíveis em Python\n",
    "    - type(variavel)\n",
    "    - print(variavel)\n",
    "    - str(variavel); float(variavel); ...\n",
    "    - max(variavel)\n",
    "    - min(variavel)\n",
    "    - mean(variavel)\n",
    "    - round(valor,precisao), round(valor)\n",
    "    - complex(valor)\n",
    "    - sorted(iterable, key, reverse)\n",
    "    - help(funcao)"
   ]
  },
  {
   "cell_type": "code",
   "execution_count": null,
   "metadata": {
    "collapsed": true
   },
   "outputs": [],
   "source": [
    "# Exemplos\n",
    "# Criar variáveis var1 e var2\n",
    "var1 = [1, 2, 3, 4]\n",
    "var2 = True\n",
    "\n",
    "# Print tipo (type) de var1\n",
    "print(type(var1))\n",
    "\n",
    "# Print o tamanho de var1\n",
    "print(len(var1))\n",
    "\n",
    "# Converter var2 paar um inteiro: out2\n",
    "out2 = int(var2)"
   ]
  },
  {
   "cell_type": "code",
   "execution_count": null,
   "metadata": {
    "collapsed": false
   },
   "outputs": [],
   "source": [
    "help(max)"
   ]
  },
  {
   "cell_type": "code",
   "execution_count": null,
   "metadata": {
    "collapsed": true
   },
   "outputs": [],
   "source": [
    "?max"
   ]
  },
  {
   "cell_type": "code",
   "execution_count": null,
   "metadata": {
    "collapsed": true
   },
   "outputs": [],
   "source": [
    "# Teste essas opções e conclua com funciona o número complexo\n",
    "#complex()\n",
    "#complex(1)\n",
    "#complex(1,2)"
   ]
  },
  {
   "cell_type": "code",
   "execution_count": null,
   "metadata": {
    "collapsed": true
   },
   "outputs": [],
   "source": [
    "# Execute o comando help()\n",
    "help(sorted)"
   ]
  },
  {
   "cell_type": "code",
   "execution_count": null,
   "metadata": {
    "collapsed": false
   },
   "outputs": [],
   "source": [
    "# Exemplo\n",
    "# Criar duas listas:first e second\n",
    "first = [11.25, 18.0, 20.0]\n",
    "second = [10.75, 9.50]\n",
    "\n",
    "# Unir as duas listas na lista full\n",
    "full = first + second\n",
    "\n",
    "# Ordenar a lista full em ordem decrscente e armazenar o resultado na lista full_sorted\n",
    "full_sorted = sorted(full, reverse = True)\n",
    "\n",
    "# Print a lista full_sorted\n",
    "print(full_sorted)\n",
    "\n",
    "# Investigue se não se utilizar o parâmetro reserve\n",
    "\n",
    "# Qual é a utilidade do parâmetro key?"
   ]
  },
  {
   "cell_type": "markdown",
   "metadata": {},
   "source": [
    "Em Python, todos os tipos de variáveis são classe.\n",
    "- As variáveis são objetos de classes específicas\n",
    "Assim, todas as variáveis possuem métodos específicos.\n",
    "- Os métodos são funções pertencentes a objetos\n",
    "\n",
    "Para acessar métodos, devemos utilizar a seguinte sintase:\n",
    "- variavel.metodo(parametros)"
   ]
  },
  {
   "cell_type": "markdown",
   "metadata": {},
   "source": [
    "Métodos da classe String\n",
    "\n",
    "- As strings possuem com um monte de métodos específicos.\n",
    "- Para verificar mais detalhadamente, você sempre pode digitar help (str) no IPython Shell."
   ]
  },
  {
   "cell_type": "code",
   "execution_count": null,
   "metadata": {
    "collapsed": false
   },
   "outputs": [],
   "source": [
    "# Exemplo\n",
    "# string room\n",
    "room = \"poolhouse\"\n",
    "\n",
    "# Use o método upper() sobre a string room. Armazene a resposta em room_up\n",
    "room_up = room.upper()\n",
    "\n",
    "# Print as strings room e room_up\n",
    "print(room)\n",
    "print(room_up)\n",
    "\n",
    "# Print o número de ocorrência da letra \"o\" na string room\n",
    "print(room.count(\"o\"))"
   ]
  },
  {
   "cell_type": "code",
   "execution_count": null,
   "metadata": {
    "collapsed": true
   },
   "outputs": [],
   "source": [
    "Alguns métodos de Listas\n",
    "- lista.index(parametro)\n",
    "- lista(count(parametro))\n",
    "- append()\n",
    "- remove(), remove o primeiro elemento da lista que casa com o parâmetro\n",
    "- reverse(), reverte a ordem dos elementos\n"
   ]
  },
  {
   "cell_type": "code",
   "execution_count": null,
   "metadata": {
    "collapsed": false
   },
   "outputs": [],
   "source": [
    "# Criar a lista areas\n",
    "areas = [11.25, 18.0, 20.0, 10.75, 9.50]\n",
    "\n",
    "# Print o índice do elemento 20.0 na lista\n",
    "print(areas.index(20.0))\n",
    "\n",
    "# Print a quantidade de vezes que 14.5 apareace em areas\n",
    "\n",
    "print(areas.count(14.5))"
   ]
  },
  {
   "cell_type": "code",
   "execution_count": null,
   "metadata": {
    "collapsed": false
   },
   "outputs": [],
   "source": [
    "# Exercício 19\n",
    "#Criar a lista areas\n",
    "areas = [11.25, 18.0, 20.0, 10.75, 9.50]\n",
    "\n",
    "# Use o método append duas vezes para incluir os valores 24.5 e 15.45 no final da lista areas\n",
    "\n",
    "???????\n",
    "\n",
    "# Print a lista areas\n",
    "?????\n",
    "\n",
    "# Invera a ordem dos elementos na lista areas via o método reserve\n",
    "?????\n",
    "\n",
    "# Print a lista areas\n",
    "print(areas)"
   ]
  },
  {
   "cell_type": "markdown",
   "metadata": {},
   "source": [
    "Módulos em Python\n",
    "- Modulos agrupam funções, métodos e tipos específicos\n",
    "\n",
    "Pacotes são implementações Módulos disponíveis em Python \n",
    "- Há centenas de pacotes disponíveis em Python.\n",
    "\n",
    "Importação de Pacotes em Python (importa todo o pacote)\n",
    "- import pacote_desejado\n",
    "- import math\n",
    "\n",
    "Para usar funções do pacotes:\n",
    "- pacote_desejado.metodo_desejado(parametros)\n",
    "- pacote_desejado.variavel_desejada\n",
    "- math.pi\n",
    "\n",
    "Para importar apenas um módulo específico de um pacote, utilizamos:\n",
    "- from pacote_desejado import modulo_desejado\n",
    "\n",
    "Exemplo: importa só o pacote sqrt do pacote math\n",
    "\n",
    "- from math import sqrt    \n",
    "- print(sqrt(25))\n",
    "\n",
    "Ao utilizar \"from package import item\", o item pode ser um subpacote, submódulo, classe, função ou variável."
   ]
  },
  {
   "cell_type": "code",
   "execution_count": null,
   "metadata": {
    "collapsed": false
   },
   "outputs": [],
   "source": [
    "# Exemplo\n",
    "# Importar pacote math \n",
    "import math\n",
    "\n",
    "# Definição de raio\n",
    "r = 0.43\n",
    "\n",
    "\n",
    "# Cálculo de C\n",
    "C = 2 * r * math.pi\n",
    "\n",
    "# Cálculo de A\n",
    "A = math.pi * r ** 2\n",
    "\n",
    "# print valores da Circunferência e Área\n",
    "print(\"Circunferência: \" + str(C))\n",
    "print(\"Área: \" + str(A))"
   ]
  },
  {
   "cell_type": "code",
   "execution_count": null,
   "metadata": {
    "collapsed": false
   },
   "outputs": [],
   "source": [
    "dir(math)"
   ]
  },
  {
   "cell_type": "code",
   "execution_count": null,
   "metadata": {
    "collapsed": false
   },
   "outputs": [],
   "source": [
    "# Exemplo\n",
    "# Definição do raio\n",
    "r = 192500\n",
    "\n",
    "# Importar apenas a função radians do pacote math\n",
    "from math import radians \n",
    "\n",
    "# Calcular o arco correspondente a 12 graus.\n",
    "\n",
    "arco = r* radians(12)\n",
    "\n",
    "# Print o valor de arco\n",
    "print(arco)"
   ]
  },
  {
   "cell_type": "code",
   "execution_count": null,
   "metadata": {
    "collapsed": true
   },
   "outputs": [],
   "source": [
    "# Exemplo\n",
    "# Definição do raio\n",
    "r = 192500\n",
    "\n",
    "# Importar apenas a função radians do pacote math, redefinindo o nome da função\n",
    "from math import radians as radiano\n",
    "\n",
    "# Calcular o arco correspondente a 12 graus.\n",
    "\n",
    "arco = r* radiano(12)\n",
    "\n",
    "# Print o valor de arco\n",
    "print(arco)"
   ]
  },
  {
   "cell_type": "markdown",
   "metadata": {},
   "source": [
    "Alguns exemplos de funções matemáticas:\n",
    "- import math\n"
   ]
  },
  {
   "cell_type": "code",
   "execution_count": null,
   "metadata": {
    "collapsed": false
   },
   "outputs": [],
   "source": [
    "#Exemplos de Uso\n",
    "import math\n",
    "print(math.exp(1.0))\n",
    "print(math.pi)\n",
    "print(math.e)\n",
    "print(math.cos( math.pi))\n",
    "teta = 0.7\n",
    "y = math.sin(teta) ** 2 + math.cos(teta) ** 2\n",
    "print(y)"
   ]
  },
  {
   "cell_type": "markdown",
   "metadata": {},
   "source": [
    "Comando de Controle de Fluxo\n",
    "- If\n",
    "\n",
    "    if (condição_lógica):\n",
    "         comando_1\n",
    "         comando_2\n",
    "         ...\n",
    "         comando_n\n",
    "         \n"
   ]
  },
  {
   "cell_type": "markdown",
   "metadata": {},
   "source": [
    "- If-then-Else\n",
    "\n",
    "    if (condição_lógica):\n",
    "         comando_1\n",
    "         comando_2\n",
    "         ...\n",
    "         comando_n\n",
    "     else:\n",
    "         comando_k1\n",
    "         comando_k2\n",
    "         ...\n",
    "         comando_kn"
   ]
  },
  {
   "cell_type": "markdown",
   "metadata": {},
   "source": [
    "Descubra o erro do programa abaixo"
   ]
  },
  {
   "cell_type": "code",
   "execution_count": null,
   "metadata": {
    "collapsed": false
   },
   "outputs": [],
   "source": [
    "# Exemplo de uso do comando if\n",
    "\n",
    "a = 34\n",
    "if a > 0:\n",
    "print (\"a is positive \")"
   ]
  },
  {
   "cell_type": "code",
   "execution_count": null,
   "metadata": {
    "collapsed": false
   },
   "outputs": [],
   "source": [
    "# Exemplo de uso do comando if\n",
    "a = 34\n",
    "if a > 0:\n",
    " print (\"a é positivo \")\n",
    "print(\"Identação é FUNDAMENTAL em Python\")"
   ]
  },
  {
   "cell_type": "code",
   "execution_count": null,
   "metadata": {
    "collapsed": false
   },
   "outputs": [],
   "source": [
    "# Exemplo de uso do comando if-else\n",
    "a = 34\n",
    "if a > 0:\n",
    "  print (\"O valor de a é positivo\")\n",
    "else :\n",
    "  print (\"O valor de a não é positivo\")\n"
   ]
  },
  {
   "cell_type": "code",
   "execution_count": null,
   "metadata": {
    "collapsed": false
   },
   "outputs": [],
   "source": [
    "# Exemplo de uso do comando if-elif-else\n",
    "a = 17\n",
    "if a == 0:\n",
    " print (\"a is zero \")\n",
    "elif a < 0:\n",
    " print (\"a is negative \")\n",
    "else :\n",
    " print (\"a is positive \")"
   ]
  },
  {
   "cell_type": "markdown",
   "metadata": {},
   "source": [
    "Comando de repetição (loops)\n",
    "- Comando for\n",
    "\n",
    "    for (variavel) in (sequencia):\n",
    "       comando_1\n",
    "       comando_2\n",
    "       ...\n",
    "       comando_n\n",
    "- Comando while\n",
    "    \n",
    "    while (condicao):\n",
    "       comando_1\n",
    "       comando_2\n",
    "       ...\n",
    "       comando_n"
   ]
  },
  {
   "cell_type": "code",
   "execution_count": null,
   "metadata": {
    "collapsed": false
   },
   "outputs": [],
   "source": [
    "# Exemplos de uso do comando for\n",
    "print(\"Primeiro print\")\n",
    "for i in range(2,5):\n",
    "    print(i)\n",
    "print(\"Segundo print\")\n",
    "for i in range(5):\n",
    "    print(i)\n",
    "print(\"Terceiro print\")\n",
    "lista = [\"p\", \"y\", \"t\", \"h\", \"o\", \"n\"]\n",
    "for item in lista:\n",
    "    print (item)"
   ]
  },
  {
   "cell_type": "code",
   "execution_count": null,
   "metadata": {
    "collapsed": false
   },
   "outputs": [],
   "source": [
    "# Exemplo de uso do comando for\n",
    "for x in [1,2,3]:\n",
    " print(x)"
   ]
  },
  {
   "cell_type": "code",
   "execution_count": null,
   "metadata": {
    "collapsed": false
   },
   "outputs": [],
   "source": [
    "# Exemplo de uso do comando for\n",
    "print(\"Uso do enumerate para se obter índice numérico\")\n",
    "for indice, valor in enumerate([\"p\", \"y\", \"t\", \"h\", \"o\", \"n\"]):\n",
    "    print (indice, valor)"
   ]
  },
  {
   "cell_type": "code",
   "execution_count": null,
   "metadata": {
    "collapsed": false
   },
   "outputs": [],
   "source": [
    "# Exemplo de uso do comando while\n",
    "count = 0\n",
    "while count <= 5:\n",
    "    print(count)\n",
    "    count += 1"
   ]
  },
  {
   "cell_type": "code",
   "execution_count": null,
   "metadata": {
    "collapsed": false
   },
   "outputs": [],
   "source": [
    "# Exemplo de uso do comando while com break\n",
    "count = 0\n",
    "while count <= 5:\n",
    "    print(count)\n",
    "    count += 1\n",
    "    if count > 3: break"
   ]
  },
  {
   "cell_type": "code",
   "execution_count": null,
   "metadata": {
    "collapsed": false
   },
   "outputs": [],
   "source": [
    "# Comando else no final de um loop é executado após o término do loop\n",
    "#\n",
    "# Loop while\n",
    "#\n",
    "count = 0\n",
    "while count <= 5:\n",
    "    print(count)\n",
    "    count += 1\n",
    "else:\n",
    "    print('após iteração')\n",
    "\n",
    "#\n",
    "# Loop for\n",
    "#\n",
    "for i in range(5):\n",
    "    print(i)\n",
    "else:\n",
    "    print('após iteração')\n"
   ]
  },
  {
   "cell_type": "markdown",
   "metadata": {},
   "source": [
    "Definição de Função em Python\n",
    "    \n",
    "    def funcao(lista_parametros):\n",
    "       comando_1\n",
    "       comando_2\n",
    "       ...\n",
    "       comando_n\n",
    "       return(variavel_de_saida)"
   ]
  },
  {
   "cell_type": "code",
   "execution_count": null,
   "metadata": {
    "collapsed": true
   },
   "outputs": [],
   "source": [
    "def hello(meu_nome):\n",
    "  print('Olá,',meu_nome)"
   ]
  },
  {
   "cell_type": "code",
   "execution_count": null,
   "metadata": {
    "collapsed": false
   },
   "outputs": [],
   "source": [
    "hello(\"João da Silva\")"
   ]
  },
  {
   "cell_type": "code",
   "execution_count": null,
   "metadata": {
    "collapsed": true
   },
   "outputs": [],
   "source": [
    "def hello(meu_nome,idade):\n",
    "  print('Olá, ',meu_nome,'\\nSua idade é:',idade)"
   ]
  },
  {
   "cell_type": "code",
   "execution_count": null,
   "metadata": {
    "collapsed": false
   },
   "outputs": [],
   "source": [
    "hello(\"João da Silva\", 21)"
   ]
  },
  {
   "cell_type": "code",
   "execution_count": null,
   "metadata": {
    "collapsed": true
   },
   "outputs": [],
   "source": [
    "def calcular_pagamento(qtd_horas, valor_hora):\n",
    "    horas = float(qtd_horas)\n",
    "    taxa = float(valor_hora)\n",
    "    if horas <= 40:\n",
    "        salario=horas*taxa\n",
    "    else:\n",
    "        h_excd = horas - 40\n",
    "        salario = 40*taxa+(h_excd*(1.5*taxa))\n",
    "    return (salario)"
   ]
  },
  {
   "cell_type": "code",
   "execution_count": null,
   "metadata": {
    "collapsed": true
   },
   "outputs": [],
   "source": [
    "# Exemplo de função com valor de retorno\n",
    "def calcular_pagamento(horas, taxa):\n",
    " salario=float(horas)*float(taxa)\n",
    " return (salario)"
   ]
  },
  {
   "cell_type": "code",
   "execution_count": null,
   "metadata": {
    "collapsed": false
   },
   "outputs": [],
   "source": [
    "total_salario = calcular_pagamento(40,20)\n",
    "print('O valor de seus rendimentos é R$',total_salario)"
   ]
  },
  {
   "cell_type": "code",
   "execution_count": null,
   "metadata": {
    "collapsed": false
   },
   "outputs": [],
   "source": [
    "str_horas= input('Digite as horas: ')\n",
    "str_taxa=input('Digite a taxa: ')"
   ]
  },
  {
   "cell_type": "code",
   "execution_count": null,
   "metadata": {
    "collapsed": false
   },
   "outputs": [],
   "source": [
    "print(str_horas)\n",
    "print(str_taxa)\n",
    "float_horas = float(str_horas)\n",
    "float_taxa = float(str_taxa)"
   ]
  },
  {
   "cell_type": "code",
   "execution_count": null,
   "metadata": {
    "collapsed": false
   },
   "outputs": [],
   "source": [
    "print(float_horas)\n",
    "print(float_taxa)\n",
    "total_salario = calcular_pagamento(float_horas,float_taxa)\n",
    "print('O valor de seus rendimentos é R$',total_salario)"
   ]
  },
  {
   "cell_type": "code",
   "execution_count": null,
   "metadata": {
    "collapsed": true
   },
   "outputs": [],
   "source": []
  }
 ],
 "metadata": {
  "kernelspec": {
   "display_name": "Python 3",
   "language": "python",
   "name": "python3"
  },
  "language_info": {
   "codemirror_mode": {
    "name": "ipython",
    "version": 3
   },
   "file_extension": ".py",
   "mimetype": "text/x-python",
   "name": "python",
   "nbconvert_exporter": "python",
   "pygments_lexer": "ipython3",
   "version": "3.6.0"
  }
 },
 "nbformat": 4,
 "nbformat_minor": 2
}
